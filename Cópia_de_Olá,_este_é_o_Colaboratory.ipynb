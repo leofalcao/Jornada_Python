{
  "cells": [
    {
      "cell_type": "markdown",
      "metadata": {
        "id": "view-in-github",
        "colab_type": "text"
      },
      "source": [
        "<a href=\"https://colab.research.google.com/github/leofalcao/Jornada_Python/blob/main/C%C3%B3pia_de_Ol%C3%A1%2C_este_%C3%A9_o_Colaboratory.ipynb\" target=\"_parent\"><img src=\"https://colab.research.google.com/assets/colab-badge.svg\" alt=\"Open In Colab\"/></a>"
      ]
    },
    {
      "cell_type": "code",
      "source": [
        "import numpy as np\n"
      ],
      "metadata": {
        "id": "THYXIVdIJ7-7"
      },
      "execution_count": null,
      "outputs": []
    },
    {
      "cell_type": "code",
      "source": [
        "l = [1,2,3]\n",
        "x = np.array(l)\n",
        "print(\"x\", x)\n",
        "print(\"shape:\", x.shape)"
      ],
      "metadata": {
        "id": "3TuYNp5OKthH",
        "outputId": "6a4c1c80-b22c-4abd-f860-7ab810dcff67",
        "colab": {
          "base_uri": "https://localhost:8080/"
        }
      },
      "execution_count": null,
      "outputs": [
        {
          "output_type": "stream",
          "name": "stdout",
          "text": [
            "x [1 2 3]\n",
            "shape: (3,)\n"
          ]
        }
      ]
    },
    {
      "cell_type": "code",
      "source": [
        "l = [[1,2], [3,4]]\n",
        "x = np.array(l)\n",
        "print(\"x:\\n\", x)\n",
        "print('shape:', x.shape)"
      ],
      "metadata": {
        "id": "UjrVCBRtLhpK",
        "outputId": "c3aff7be-97ea-4414-9bb2-4934af1d67e0",
        "colab": {
          "base_uri": "https://localhost:8080/"
        }
      },
      "execution_count": null,
      "outputs": [
        {
          "output_type": "stream",
          "name": "stdout",
          "text": [
            "x:\n",
            " [[1 2]\n",
            " [3 4]]\n",
            "shape: (2, 2)\n"
          ]
        }
      ]
    },
    {
      "cell_type": "code",
      "source": [
        "dim = (7, 9)\n",
        "x = np.zeros(dim)\n",
        "print(\"x:\\n\", x)\n",
        "print(\"shape:\", x.shape)\n"
      ],
      "metadata": {
        "id": "aaBhgDLlM5Qo",
        "outputId": "e8ca2390-b78e-4999-ece9-f3f751b2ca7f",
        "colab": {
          "base_uri": "https://localhost:8080/"
        }
      },
      "execution_count": null,
      "outputs": [
        {
          "output_type": "stream",
          "name": "stdout",
          "text": [
            "x:\n",
            " [[0. 0. 0. 0. 0. 0. 0. 0. 0.]\n",
            " [0. 0. 0. 0. 0. 0. 0. 0. 0.]\n",
            " [0. 0. 0. 0. 0. 0. 0. 0. 0.]\n",
            " [0. 0. 0. 0. 0. 0. 0. 0. 0.]\n",
            " [0. 0. 0. 0. 0. 0. 0. 0. 0.]\n",
            " [0. 0. 0. 0. 0. 0. 0. 0. 0.]\n",
            " [0. 0. 0. 0. 0. 0. 0. 0. 0.]]\n",
            "shape: (7, 9)\n"
          ]
        }
      ]
    },
    {
      "cell_type": "code",
      "source": [
        "size = (7, 9)\n",
        "x = np.ones(size)\n",
        "print(\"x:\\n\", x)\n",
        "print(\"shape:\", x.shape)\n"
      ],
      "metadata": {
        "id": "CRItXrmJNugd",
        "outputId": "e82765e7-91c1-4d14-9262-05b426e35355",
        "colab": {
          "base_uri": "https://localhost:8080/"
        }
      },
      "execution_count": null,
      "outputs": [
        {
          "output_type": "stream",
          "name": "stdout",
          "text": [
            "x:\n",
            " [[1. 1. 1. 1. 1. 1. 1. 1. 1.]\n",
            " [1. 1. 1. 1. 1. 1. 1. 1. 1.]\n",
            " [1. 1. 1. 1. 1. 1. 1. 1. 1.]\n",
            " [1. 1. 1. 1. 1. 1. 1. 1. 1.]\n",
            " [1. 1. 1. 1. 1. 1. 1. 1. 1.]\n",
            " [1. 1. 1. 1. 1. 1. 1. 1. 1.]\n",
            " [1. 1. 1. 1. 1. 1. 1. 1. 1.]]\n",
            "shape: (7, 9)\n"
          ]
        }
      ]
    },
    {
      "cell_type": "code",
      "source": [
        "x_min, x_max = 5, 15\n",
        "x = np.linspace(start=x_min, stop=x_max, num=6)\n",
        "print(\"x:\", x)\n",
        "print(\"shape:\", x.shape)"
      ],
      "metadata": {
        "id": "yHCjSvNfOiND",
        "outputId": "6ed7ed60-f958-4a6c-d1a6-bc5d3ad627a3",
        "colab": {
          "base_uri": "https://localhost:8080/"
        }
      },
      "execution_count": null,
      "outputs": [
        {
          "output_type": "stream",
          "name": "stdout",
          "text": [
            "x: [ 5.  7.  9. 11. 13. 15.]\n",
            "shape: (6,)\n"
          ]
        }
      ]
    },
    {
      "cell_type": "code",
      "source": [
        "x_min, x_max = 1, 100\n",
        "x = np.linspace(start=x_min, stop=x_max, num=10)\n",
        "print(\"x:\", x)\n",
        "print(\"shape:\", x.shape)"
      ],
      "metadata": {
        "id": "GmKzEXsjPRLx",
        "outputId": "bd237efe-cafb-42dd-fe8c-b4b1a7433fe1",
        "colab": {
          "base_uri": "https://localhost:8080/"
        }
      },
      "execution_count": null,
      "outputs": [
        {
          "output_type": "stream",
          "name": "stdout",
          "text": [
            "x: [  1.  12.  23.  34.  45.  56.  67.  78.  89. 100.]\n",
            "shape: (10,)\n"
          ]
        }
      ]
    },
    {
      "cell_type": "code",
      "source": [
        "n = 4\n",
        "x = np.eye(n)\n",
        "print(\"x:\\n\", x)\n",
        "print(\"shape:\", x.shape)"
      ],
      "metadata": {
        "id": "Wp81uBM-PSmR",
        "outputId": "6926f5a0-369b-482f-f8ff-898618fb15cd",
        "colab": {
          "base_uri": "https://localhost:8080/"
        }
      },
      "execution_count": null,
      "outputs": [
        {
          "output_type": "stream",
          "name": "stdout",
          "text": [
            "x:\n",
            " [[1. 0. 0. 0.]\n",
            " [0. 1. 0. 0.]\n",
            " [0. 0. 1. 0.]\n",
            " [0. 0. 0. 1.]]\n",
            "shape: (4, 4)\n"
          ]
        }
      ]
    },
    {
      "cell_type": "code",
      "source": [
        "n = 8\n",
        "x = np.eye(n)\n",
        "print(\"x:\\n\", x)\n",
        "print(\"shape:\", x.shape)"
      ],
      "metadata": {
        "id": "RGNzoM0fQ_MR",
        "outputId": "247919df-0dbe-4a54-a0bb-c8061e1f32c8",
        "colab": {
          "base_uri": "https://localhost:8080/"
        }
      },
      "execution_count": null,
      "outputs": [
        {
          "output_type": "stream",
          "name": "stdout",
          "text": [
            "x:\n",
            " [[1. 0. 0. 0. 0. 0. 0. 0.]\n",
            " [0. 1. 0. 0. 0. 0. 0. 0.]\n",
            " [0. 0. 1. 0. 0. 0. 0. 0.]\n",
            " [0. 0. 0. 1. 0. 0. 0. 0.]\n",
            " [0. 0. 0. 0. 1. 0. 0. 0.]\n",
            " [0. 0. 0. 0. 0. 1. 0. 0.]\n",
            " [0. 0. 0. 0. 0. 0. 1. 0.]\n",
            " [0. 0. 0. 0. 0. 0. 0. 1.]]\n",
            "shape: (8, 8)\n"
          ]
        }
      ]
    },
    {
      "cell_type": "code",
      "source": [
        "import numpy as np"
      ],
      "metadata": {
        "id": "D7zhVHbPRmi_"
      },
      "execution_count": null,
      "outputs": []
    },
    {
      "cell_type": "code",
      "source": [
        "x = np.random.random[size=(2, 3)]\n",
        "print(\"x:\\n\", x)\n",
        "print(\"shape:\", x.shape)\n"
      ],
      "metadata": {
        "id": "Pw-C-slqRD4T",
        "outputId": "9a9a5d80-1a3e-49f4-b7f0-6a569f2dc18d",
        "colab": {
          "base_uri": "https://localhost:8080/",
          "height": 130
        }
      },
      "execution_count": null,
      "outputs": [
        {
          "output_type": "error",
          "ename": "SyntaxError",
          "evalue": "ignored",
          "traceback": [
            "\u001b[0;36m  File \u001b[0;32m\"<ipython-input-2-ea07adf73600>\"\u001b[0;36m, line \u001b[0;32m1\u001b[0m\n\u001b[0;31m    x = np.random.random[size=(2, 3)]\u001b[0m\n\u001b[0m                             ^\u001b[0m\n\u001b[0;31mSyntaxError\u001b[0m\u001b[0;31m:\u001b[0m invalid syntax\n"
          ]
        }
      ]
    },
    {
      "cell_type": "code",
      "source": [
        "x = np.linspace(start=10, stop=100, num=10)\n",
        "print(\"x:\", x)\n"
      ],
      "metadata": {
        "id": "zaK6z4lDH6eR",
        "outputId": "67d58333-378d-45b3-cf16-2702cd876fb3",
        "colab": {
          "base_uri": "https://localhost:8080/"
        }
      },
      "execution_count": null,
      "outputs": [
        {
          "output_type": "stream",
          "name": "stdout",
          "text": [
            "x: [ 10.  20.  30.  40.  50.  60.  70.  80.  90. 100.]\n"
          ]
        }
      ]
    },
    {
      "cell_type": "code",
      "source": [
        "print('x:',x)\n",
        "print(\"primeiro elemento:\", x[0])\n",
        "print(\"segundo elemento:\", x[1])\n",
        "print(\"ultimo elemento:\", x[9])\n",
        "print(\"ultimo elemento:\", x[-1])\n"
      ],
      "metadata": {
        "id": "pC3YI541KEHp",
        "outputId": "21a39b09-b6ec-452a-9018-f01fd807e2e7",
        "colab": {
          "base_uri": "https://localhost:8080/"
        }
      },
      "execution_count": null,
      "outputs": [
        {
          "output_type": "stream",
          "name": "stdout",
          "text": [
            "x: [ 10.  20.  30.  40.  50.  60.  70.  80.  90. 100.]\n",
            "primeiro elemento: 10.0\n",
            "segundo elemento: 20.0\n",
            "ultimo elemento: 100.0\n",
            "ultimo elemento: 100.0\n"
          ]
        }
      ]
    },
    {
      "cell_type": "code",
      "source": [
        "print(\"x:\", x)\n",
        "print(\"dois primeiros elementos:\", x[0:2])\n",
        "print(\"dois primeiros elementos:\", x[:2])\n",
        "print(\"dois ultimos elemento:\", x[-2:])\n",
        "\n"
      ],
      "metadata": {
        "id": "b3FP39R7Na7M",
        "outputId": "7b8aab82-175c-45fc-e10b-fdac0fe6caa5",
        "colab": {
          "base_uri": "https://localhost:8080/"
        }
      },
      "execution_count": null,
      "outputs": [
        {
          "output_type": "stream",
          "name": "stdout",
          "text": [
            "x: [ 10.  20.  30.  40.  50.  60.  70.  80.  90. 100.]\n",
            "dois primeiros elementos: [10. 20.]\n",
            "dois primeiros elementos: [10. 20.]\n",
            "dois ultimos elemento: [ 90. 100.]\n"
          ]
        }
      ]
    },
    {
      "cell_type": "code",
      "source": [
        "x[8:]"
      ],
      "metadata": {
        "id": "HTAKLxx7WJvq",
        "outputId": "98eee42b-c482-42b7-97c8-cc8e1e93e2c6",
        "colab": {
          "base_uri": "https://localhost:8080/"
        }
      },
      "execution_count": null,
      "outputs": [
        {
          "output_type": "execute_result",
          "data": {
            "text/plain": [
              "array([ 90., 100.])"
            ]
          },
          "metadata": {},
          "execution_count": 8
        }
      ]
    },
    {
      "cell_type": "code",
      "source": [
        "x = x.reshape(2,5)\n",
        "print('x:\\n', x)"
      ],
      "metadata": {
        "id": "XNNaVE_SYiI6",
        "outputId": "6d35690a-21ff-4c37-ec46-7e2b0c2132dc",
        "colab": {
          "base_uri": "https://localhost:8080/"
        }
      },
      "execution_count": null,
      "outputs": [
        {
          "output_type": "stream",
          "name": "stdout",
          "text": [
            "x:\n",
            " [[ 10.  20.  30.  40.  50.]\n",
            " [ 60.  70.  80.  90. 100.]]\n"
          ]
        }
      ]
    },
    {
      "cell_type": "code",
      "source": [
        "print(\"primeira linha, segunda coluna:\", x[0,1])\n",
        "print(\"segunda linha, penultima coluna:\", x[1,-2])\n",
        "print(\"ultima linha, ultima coluna:\", x[1,4])\n",
        "print(\"ultima linha, ultima coluna:\", x[-1,-1])\n"
      ],
      "metadata": {
        "id": "Wc0MzW1Kg4V-",
        "outputId": "71ef1feb-2a98-4e50-ed71-b2efd8b9e055",
        "colab": {
          "base_uri": "https://localhost:8080/"
        }
      },
      "execution_count": null,
      "outputs": [
        {
          "output_type": "stream",
          "name": "stdout",
          "text": [
            "primeira linha, segunda coluna: 20.0\n",
            "segunda linha, penultima coluna: 90.0\n",
            "ultima linha, ultima coluna: 100.0\n",
            "ultima linha, ultima coluna: 100.0\n"
          ]
        }
      ]
    },
    {
      "cell_type": "code",
      "source": [
        "print('x:\\n', x)\n",
        "print(\"primeira linha inteira:\", x[0, :])\n",
        "print(\"primeira linha, penultima coluna:\", x[0, 1:4])\n",
        "print(\"ultima linha, ultima coluna:\", x[:, [-1]])"
      ],
      "metadata": {
        "id": "Y5IQ694nhoSw",
        "outputId": "b86ba5cb-b9c5-4811-8eb0-5ff3c090f40d",
        "colab": {
          "base_uri": "https://localhost:8080/"
        }
      },
      "execution_count": null,
      "outputs": [
        {
          "output_type": "stream",
          "name": "stdout",
          "text": [
            "x:\n",
            " [[ 10.  20.  30.  40.  50.]\n",
            " [ 60.  70.  80.  90. 100.]]\n",
            "primeira linha inteira: [10. 20. 30. 40. 50.]\n",
            "segunda linha, penultima coluna: [20. 30. 40.]\n",
            "ultima linha, ultima coluna: [[ 50.]\n",
            " [100.]]\n"
          ]
        }
      ]
    },
    {
      "cell_type": "code",
      "source": [
        "x=np.array([1, 2, 3])\n",
        "print(\"x antes:\", x)\n",
        "y = x[:2]\n",
        "y[0] = -100\n",
        "print('x depois:', x)"
      ],
      "metadata": {
        "id": "gwNI-hFflJM4",
        "outputId": "9dad703e-63e1-4b62-d7d0-9a66c5b75fb1",
        "colab": {
          "base_uri": "https://localhost:8080/"
        }
      },
      "execution_count": null,
      "outputs": [
        {
          "output_type": "stream",
          "name": "stdout",
          "text": [
            "x antes: [1 2 3]\n",
            "x depois: [-100    2    3]\n"
          ]
        }
      ]
    },
    {
      "cell_type": "code",
      "source": [
        "x = np.array([1, 2, 3])\n",
        "print('x antes:', x)\n",
        "y = x[:2]\n",
        "y[0]= -100\n",
        "print('x depois:', x)"
      ],
      "metadata": {
        "id": "j_Zfkt8Ul08h",
        "outputId": "a8967552-28f2-4b82-e29c-06b96140893e",
        "colab": {
          "base_uri": "https://localhost:8080/"
        }
      },
      "execution_count": null,
      "outputs": [
        {
          "output_type": "stream",
          "name": "stdout",
          "text": [
            "x antes: [1 2 3]\n",
            "x depois: [-100    2    3]\n"
          ]
        }
      ]
    },
    {
      "cell_type": "code",
      "source": [
        "# criação de dois arrays x e y\n",
        "\n",
        "import numpy as np\n",
        "x= np.ones((2, 2))\n",
        "y=np.eye(2)\n",
        "print('x:\\n', x)\n",
        "print('x:\\n', y)\n"
      ],
      "metadata": {
        "id": "Z5LwAGNb0xsS",
        "outputId": "ac6c1bda-97e8-475e-8a29-b7fdb95a6009",
        "colab": {
          "base_uri": "https://localhost:8080/"
        }
      },
      "execution_count": null,
      "outputs": [
        {
          "output_type": "stream",
          "name": "stdout",
          "text": [
            "x:\n",
            " [[1. 1.]\n",
            " [1. 1.]]\n",
            "x:\n",
            " [[1. 0.]\n",
            " [0. 1.]]\n"
          ]
        }
      ]
    },
    {
      "cell_type": "code",
      "source": [
        "print(\"soma de dois arrays:\\n\", x+y)"
      ],
      "metadata": {
        "id": "j_JfWYHq6VrJ",
        "outputId": "96471191-fa8b-45c5-8890-ac1b1f5b921e",
        "colab": {
          "base_uri": "https://localhost:8080/"
        }
      },
      "execution_count": null,
      "outputs": [
        {
          "output_type": "stream",
          "name": "stdout",
          "text": [
            "soma de dois arrays:\n",
            " [[2. 1.]\n",
            " [1. 2.]]\n"
          ]
        }
      ]
    },
    {
      "cell_type": "code",
      "source": [
        "print(\"soma com float/int:\\n\", x + 2)"
      ],
      "metadata": {
        "id": "NBdLGOTr6j3J",
        "outputId": "2b6206dc-5625-4920-bb63-2609c2f397f9",
        "colab": {
          "base_uri": "https://localhost:8080/"
        }
      },
      "execution_count": null,
      "outputs": [
        {
          "output_type": "stream",
          "name": "stdout",
          "text": [
            "soma com float/int:\n",
            " [[3. 3.]\n",
            " [3. 3.]]\n"
          ]
        }
      ]
    },
    {
      "cell_type": "code",
      "source": [
        "print(\"subtração de dois arrays:\\n\", x - y)"
      ],
      "metadata": {
        "id": "dBvKi0jP68rk",
        "outputId": "3aa50c89-c928-4256-8183-cb399fe76c65",
        "colab": {
          "base_uri": "https://localhost:8080/"
        }
      },
      "execution_count": null,
      "outputs": [
        {
          "output_type": "stream",
          "name": "stdout",
          "text": [
            "subtração de dois arrays:\n",
            " [[0. 1.]\n",
            " [1. 0.]]\n"
          ]
        }
      ]
    },
    {
      "cell_type": "code",
      "source": [
        "print(\"subtração de dois arrays:\\n\", x - 2)"
      ],
      "metadata": {
        "id": "pKnukyfj7Xl4",
        "outputId": "ba3f1579-5e73-48f9-ca87-a0bc7e97f7d7",
        "colab": {
          "base_uri": "https://localhost:8080/"
        }
      },
      "execution_count": null,
      "outputs": [
        {
          "output_type": "stream",
          "name": "stdout",
          "text": [
            "subtração de dois arrays:\n",
            " [[-1. -1.]\n",
            " [-1. -1.]]\n"
          ]
        }
      ]
    },
    {
      "cell_type": "code",
      "source": [
        "print(\"divisão de dois arrays:\\n\", x / y)"
      ],
      "metadata": {
        "id": "v47nCwsk8LBD",
        "outputId": "c2333802-986f-447a-f9c3-944f7da79ac8",
        "colab": {
          "base_uri": "https://localhost:8080/"
        }
      },
      "execution_count": null,
      "outputs": [
        {
          "output_type": "stream",
          "name": "stdout",
          "text": [
            "divisão de dois arrays:\n",
            " [[ 1. inf]\n",
            " [inf  1.]]\n"
          ]
        },
        {
          "output_type": "stream",
          "name": "stderr",
          "text": [
            "/usr/local/lib/python3.7/dist-packages/ipykernel_launcher.py:1: RuntimeWarning: divide by zero encountered in true_divide\n",
            "  \"\"\"Entry point for launching an IPython kernel.\n"
          ]
        }
      ]
    },
    {
      "cell_type": "code",
      "source": [
        "print(\"divisão com float\\int:\\n\", x / 2) "
      ],
      "metadata": {
        "id": "XVWjlJba8T33",
        "outputId": "8d9887d3-275b-4b1b-ff59-0435abfb3b2e",
        "colab": {
          "base_uri": "https://localhost:8080/"
        }
      },
      "execution_count": null,
      "outputs": [
        {
          "output_type": "stream",
          "name": "stdout",
          "text": [
            "divisão com float\\int:\n",
            " [[0.5 0.5]\n",
            " [0.5 0.5]]\n"
          ]
        }
      ]
    },
    {
      "cell_type": "code",
      "source": [
        "print(\"combinação de operações:\\n\", (x+y)/(x-2))"
      ],
      "metadata": {
        "id": "T0OqpZ6T_Fnq",
        "outputId": "661e685a-4398-4b37-cd1b-11ff5764dc7b",
        "colab": {
          "base_uri": "https://localhost:8080/"
        }
      },
      "execution_count": null,
      "outputs": [
        {
          "output_type": "stream",
          "name": "stdout",
          "text": [
            "combinação de operações:\n",
            " [[-2. -1.]\n",
            " [-1. -2.]]\n"
          ]
        }
      ]
    },
    {
      "cell_type": "code",
      "source": [
        "print(\"multiplicação de dois arrays:\\n\", x*y)"
      ],
      "metadata": {
        "id": "8JPX0kmuAqyd",
        "outputId": "8d0c6009-1b47-4025-9a31-0127926c3b32",
        "colab": {
          "base_uri": "https://localhost:8080/"
        }
      },
      "execution_count": null,
      "outputs": [
        {
          "output_type": "stream",
          "name": "stdout",
          "text": [
            "multiplicação de dois arrays:\n",
            " [[1. 0.]\n",
            " [0. 1.]]\n"
          ]
        }
      ]
    },
    {
      "cell_type": "code",
      "source": [
        "print(\"multiplicação com float:\\n\", x*2)"
      ],
      "metadata": {
        "id": "uX0IGGkwA0PL",
        "outputId": "70f56f25-8c62-436b-9d8f-e1809e764edb",
        "colab": {
          "base_uri": "https://localhost:8080/"
        }
      },
      "execution_count": null,
      "outputs": [
        {
          "output_type": "stream",
          "name": "stdout",
          "text": [
            "multiplicação com float:\n",
            " [[2. 2.]\n",
            " [2. 2.]]\n"
          ]
        }
      ]
    },
    {
      "cell_type": "code",
      "source": [
        "# multiplicação matricial\n",
        "print(\"multiplicação matricial (np.dot):\\n\", np.dot(x, y))\n"
      ],
      "metadata": {
        "id": "0UXvWWL2BlIi",
        "outputId": "8793a857-9b81-4d1e-8e61-c7efa823b9d2",
        "colab": {
          "base_uri": "https://localhost:8080/"
        }
      },
      "execution_count": null,
      "outputs": [
        {
          "output_type": "stream",
          "name": "stdout",
          "text": [
            "multiplicação matricial (np.dot):\n",
            " [[1. 1.]\n",
            " [1. 1.]]\n"
          ]
        }
      ]
    },
    {
      "cell_type": "code",
      "source": [
        "print(\"multiplicação matricial (@):\\n\",x @ y)"
      ],
      "metadata": {
        "id": "X505Wu1hBy4-",
        "outputId": "0b809263-329a-4fc4-c08f-1b807898373f",
        "colab": {
          "base_uri": "https://localhost:8080/"
        }
      },
      "execution_count": null,
      "outputs": [
        {
          "output_type": "stream",
          "name": "stdout",
          "text": [
            "multiplicação matricial (@):\n",
            " [[1. 1.]\n",
            " [1. 1.]]\n"
          ]
        }
      ]
    },
    {
      "cell_type": "code",
      "source": [
        "print(\"multiplicação matricial (.dot):\\n\", x.dot(y))"
      ],
      "metadata": {
        "id": "iUHbHZVeB89F",
        "outputId": "3d9e5433-5755-49d8-e436-2034e9695fef",
        "colab": {
          "base_uri": "https://localhost:8080/"
        }
      },
      "execution_count": null,
      "outputs": [
        {
          "output_type": "stream",
          "name": "stdout",
          "text": [
            "multiplicação matricial (.dot):\n",
            " [[1. 1.]\n",
            " [1. 1.]]\n"
          ]
        }
      ]
    },
    {
      "cell_type": "code",
      "source": [
        "#definição do problema\n",
        "\n",
        "A = np.array([[1, 2], [3, -2]])\n",
        "C = np.array([[7], [-11]])\n",
        "print(\"A:\\n\", A)\n",
        "print(\"C:\\n\", C)"
      ],
      "metadata": {
        "id": "zRtJyQWgDorb",
        "outputId": "6a604932-1ee6-40ae-e26b-adbef9340b76",
        "colab": {
          "base_uri": "https://localhost:8080/"
        }
      },
      "execution_count": null,
      "outputs": [
        {
          "output_type": "stream",
          "name": "stdout",
          "text": [
            "A:\n",
            " [[ 1  2]\n",
            " [ 3 -2]]\n",
            "C:\n",
            " [[  7]\n",
            " [-11]]\n"
          ]
        }
      ]
    },
    {
      "cell_type": "code",
      "source": [
        "# solução\n",
        "x = np.dot(np.linalg.inv(A), C)\n",
        "x = np.linalg.inv(A) @ C\n",
        "print(\"(a,b):\", x.ravel())\n",
        "\n"
      ],
      "metadata": {
        "id": "wonErV78Ez93",
        "outputId": "e27640ef-402d-457e-c51d-4b83cd7b5433",
        "colab": {
          "base_uri": "https://localhost:8080/"
        }
      },
      "execution_count": null,
      "outputs": [
        {
          "output_type": "stream",
          "name": "stdout",
          "text": [
            "(a,b): [-1.  4.]\n"
          ]
        }
      ]
    },
    {
      "cell_type": "code",
      "source": [
        "# comparações booleanas\n",
        "\n",
        "A = np.array([1, 2, 3])\n",
        "B = np.array([2, 0, 2])\n",
        "S = 3\n",
        "\n",
        "print(\"comparação menor:\")\n",
        "print(A<B)\n",
        "print(A<S)\n"
      ],
      "metadata": {
        "id": "ufn3t1eLEv4i",
        "outputId": "cf99a339-f662-426e-a84e-c4d83ca766e0",
        "colab": {
          "base_uri": "https://localhost:8080/"
        }
      },
      "execution_count": null,
      "outputs": [
        {
          "output_type": "stream",
          "name": "stdout",
          "text": [
            "comparação menor:\n",
            "[ True False False]\n",
            "[ True  True False]\n"
          ]
        }
      ]
    },
    {
      "cell_type": "code",
      "source": [
        "print(\"comparação de igualdade:\")\n",
        "print(A==B)\n",
        "print(A==S)\n"
      ],
      "metadata": {
        "id": "omAjC-C5QDEk",
        "outputId": "0d910dc9-3f29-4a79-a59d-95164a83628b",
        "colab": {
          "base_uri": "https://localhost:8080/"
        }
      },
      "execution_count": null,
      "outputs": [
        {
          "output_type": "stream",
          "name": "stdout",
          "text": [
            "comparação de igualdade:\n",
            "[False False False]\n",
            "[False False  True]\n"
          ]
        }
      ]
    },
    {
      "cell_type": "code",
      "source": [
        "cond = A <= 2\n",
        "D = A[cond]\n",
        "print(\"A:\", A)\n",
        "print(\"condição:\", cond)\n",
        "print(\"D:\", D)"
      ],
      "metadata": {
        "id": "ZVYhcCUbQtum",
        "outputId": "929525a3-c45c-464c-d15c-24fc495194dd",
        "colab": {
          "base_uri": "https://localhost:8080/"
        }
      },
      "execution_count": null,
      "outputs": [
        {
          "output_type": "stream",
          "name": "stdout",
          "text": [
            "A: [1 2 3]\n",
            "condição: [ True  True False]\n",
            "D: [1 2]\n"
          ]
        }
      ]
    },
    {
      "cell_type": "markdown",
      "source": [
        "# **Comparações**"
      ],
      "metadata": {
        "id": "brUXHYTVSpjG"
      }
    },
    {
      "cell_type": "code",
      "source": [
        "# criação dos arrays\n",
        "import numpy as np\n",
        "x = np.array([[1, 2], [3, 4]])\n",
        "y = np.array([1.5, 3.5])\n",
        "print(\"x:\\n\", x)\n",
        "print(\"y:\\n\", y)"
      ],
      "metadata": {
        "id": "4y-UsX4uSy2F",
        "outputId": "d7da572b-55c8-41e3-ea9c-67af9ce4cf27",
        "colab": {
          "base_uri": "https://localhost:8080/"
        }
      },
      "execution_count": null,
      "outputs": [
        {
          "output_type": "stream",
          "name": "stdout",
          "text": [
            "x:\n",
            " [[1 2]\n",
            " [3 4]]\n",
            "y:\n",
            " [1.5 3.5]\n"
          ]
        }
      ]
    },
    {
      "cell_type": "code",
      "source": [
        "# comparações ponto a ponto\n",
        "\n",
        "print(\"comparação de um array com um escalar (>):\\n\", x > 2)\n",
        "print(\"comparação de um array com um escalar (>=):\\n\", x >= 2)\n",
        "print(\"comparação de um array com um escalar (<):\\n\", x < 2)\n",
        "print(\"comparação de um array com um escalar (<=):\\n\", x <= 2)\n",
        "print(\"comparação entre arrays (==):\\n\", x == x)\n",
        "print(\"comparação entre arrays (>):\\n\", x > x)\n",
        "print(\"comparação entre arrays (>):\\n\", x > y)"
      ],
      "metadata": {
        "id": "QA_e6rT5J3Yx",
        "outputId": "ee69b4e3-5788-400c-b2e5-c2f36da9e76f",
        "colab": {
          "base_uri": "https://localhost:8080/"
        }
      },
      "execution_count": null,
      "outputs": [
        {
          "output_type": "stream",
          "name": "stdout",
          "text": [
            "comparação de um array com um escalar (>):\n",
            " [[False False]\n",
            " [ True  True]]\n",
            "comparação de um array com um escalar (>=):\n",
            " [[False  True]\n",
            " [ True  True]]\n",
            "comparação de um array com um escalar (<):\n",
            " [[ True False]\n",
            " [False False]]\n",
            "comparação de um array com um escalar (<=):\n",
            " [[ True  True]\n",
            " [False False]]\n",
            "comparação entre arrays (==):\n",
            " [[ True  True]\n",
            " [ True  True]]\n",
            "comparação entre arrays (>):\n",
            " [[False False]\n",
            " [False False]]\n",
            "comparação entre arrays (>):\n",
            " [[False False]\n",
            " [ True  True]]\n"
          ]
        }
      ]
    },
    {
      "cell_type": "markdown",
      "source": [],
      "metadata": {
        "id": "wxI_tIRfMfg_"
      }
    },
    {
      "cell_type": "markdown",
      "source": [
        "**Indexação booleana**"
      ],
      "metadata": {
        "id": "U3bV3lYTMeKP"
      }
    },
    {
      "cell_type": "code",
      "source": [],
      "metadata": {
        "id": "UvMSbKXJNnqM"
      },
      "execution_count": null,
      "outputs": []
    },
    {
      "cell_type": "code",
      "source": [
        "x = np.array([[1, 2, 3], [4, 11, 21], [42, 8, 9]] )\n",
        "print(\"x:\\n\", x)"
      ],
      "metadata": {
        "id": "tBmKnpPIL1Oc",
        "outputId": "576bb9ca-1ce2-46c0-cd76-edc8f3a6c9ab",
        "colab": {
          "base_uri": "https://localhost:8080/"
        }
      },
      "execution_count": 2,
      "outputs": [
        {
          "output_type": "stream",
          "name": "stdout",
          "text": [
            "x:\n",
            " [[ 1  2  3]\n",
            " [ 4 11 21]\n",
            " [42  8  9]]\n"
          ]
        }
      ]
    },
    {
      "cell_type": "code",
      "source": [
        "# indexação booleana: retornar o número de elementos \n",
        "# maiores que k\n",
        "\n",
        "k = 10\n",
        "cond = x > k\n",
        "print(\"condição:\\n\", cond)\n",
        "print(f\"elementos maiores que {k}:\", x[cond])\n",
        "print(f\"número de elementos maiores que {k}:\", len(x[cond]))"
      ],
      "metadata": {
        "id": "4l4bTYTGNkqF",
        "outputId": "0e718c9e-5d5e-4734-d3f9-4c13ae38aa8d",
        "colab": {
          "base_uri": "https://localhost:8080/"
        }
      },
      "execution_count": null,
      "outputs": [
        {
          "output_type": "stream",
          "name": "stdout",
          "text": [
            "condição:\n",
            " [[False False False]\n",
            " [False  True  True]\n",
            " [ True False False]]\n",
            "elementos maiores que 10: [11 21 42]\n",
            "número de elementos maiores que 10: 3\n"
          ]
        }
      ]
    },
    {
      "cell_type": "code",
      "source": [
        "# indexação booleana: extração dos numeros pares\n",
        "\n",
        "import numpy as np\n",
        "\n",
        "cond = x % 2 == 0\n",
        "print(\"condição: \\n\", cond)\n",
        "print(\"números pares:\", x[cond])"
      ],
      "metadata": {
        "colab": {
          "base_uri": "https://localhost:8080/"
        },
        "id": "rioEjuIzj8ea",
        "outputId": "3e5bfe11-57d9-486d-da3c-a2aa9fbaa7af"
      },
      "execution_count": 3,
      "outputs": [
        {
          "output_type": "stream",
          "name": "stdout",
          "text": [
            "condição: \n",
            " [[False  True False]\n",
            " [ True False False]\n",
            " [ True  True False]]\n",
            "números pares: [ 2  4 42  8]\n"
          ]
        }
      ]
    },
    {
      "cell_type": "markdown",
      "source": [
        "# **Outras operações com Numpy**"
      ],
      "metadata": {
        "id": "4CqRSuy5zVI5"
      }
    },
    {
      "cell_type": "code",
      "source": [
        "# array\n",
        "\n",
        "x= np.array ([[1, 2, 3], [4, 11, 21], [42, 8, 9]])\n",
        "print('x:\\n', x)"
      ],
      "metadata": {
        "colab": {
          "base_uri": "https://localhost:8080/"
        },
        "id": "zZXP4C4-zZ1v",
        "outputId": "7a2a7844-3543-4721-921c-d4b525e62ea9"
      },
      "execution_count": 4,
      "outputs": [
        {
          "output_type": "stream",
          "name": "stdout",
          "text": [
            "x:\n",
            " [[ 1  2  3]\n",
            " [ 4 11 21]\n",
            " [42  8  9]]\n"
          ]
        }
      ]
    },
    {
      "cell_type": "code",
      "source": [],
      "metadata": {
        "id": "SFwaZVhI3IY2"
      },
      "execution_count": null,
      "outputs": []
    },
    {
      "cell_type": "code",
      "source": [
        "# reshape: Transformar a matriz em um vetor coluna\n",
        "# (3, 3) vira (9, 1): 3*3 = 9*1 = 9\n",
        "\n",
        "print(\"transformação de um vetor coluna\\n\", x.reshape(9, 1))"
      ],
      "metadata": {
        "colab": {
          "base_uri": "https://localhost:8080/"
        },
        "id": "Sz7lJhQP0dtt",
        "outputId": "666cf2ea-fe05-4a07-fa6e-d2f2bb7bada1"
      },
      "execution_count": 6,
      "outputs": [
        {
          "output_type": "stream",
          "name": "stdout",
          "text": [
            "transformação de um vetor coluna\n",
            " [[ 1]\n",
            " [ 2]\n",
            " [ 3]\n",
            " [ 4]\n",
            " [11]\n",
            " [21]\n",
            " [42]\n",
            " [ 8]\n",
            " [ 9]]\n"
          ]
        }
      ]
    },
    {
      "cell_type": "code",
      "source": [
        "# transposição da matriz\n",
        "\n",
        "print(\"x transposta: \\n\", x.T)"
      ],
      "metadata": {
        "colab": {
          "base_uri": "https://localhost:8080/"
        },
        "id": "17RCuZhj1rNL",
        "outputId": "028b9fda-0b4b-4eaa-e968-1a2483143f4d"
      },
      "execution_count": 7,
      "outputs": [
        {
          "output_type": "stream",
          "name": "stdout",
          "text": [
            "x transposta: \n",
            " [[ 1  4 42]\n",
            " [ 2 11  8]\n",
            " [ 3 21  9]]\n"
          ]
        }
      ]
    },
    {
      "cell_type": "code",
      "source": [
        "# np.sum: soma em um dado eixo, axis = {0: linha, 1: coluna}\n",
        "print(\"x:\\n\", x)\n",
        "print(\"soma de todos os elementos de x:\", np.sum(x))\n",
        "print(\"soma de x ao longo das linhas:\", np.sum(x, axis=0))\n",
        "print(\"soma de x ao longo das coluna:\", np.sum(x, axis=1))\n"
      ],
      "metadata": {
        "colab": {
          "base_uri": "https://localhost:8080/"
        },
        "id": "dk-k-p8Q434O",
        "outputId": "ad27b8f8-5bc0-4790-8c4f-e550bbbd76cc"
      },
      "execution_count": 9,
      "outputs": [
        {
          "output_type": "stream",
          "name": "stdout",
          "text": [
            "x:\n",
            " [[ 1  2  3]\n",
            " [ 4 11 21]\n",
            " [42  8  9]]\n",
            "soma de todos os elementos de x: 101\n",
            "soma de x ao longo das linhas: [47 21 33]\n",
            "soma de x ao longo das coluna: [ 6 36 59]\n"
          ]
        }
      ]
    },
    {
      "cell_type": "code",
      "source": [
        "# np.sum: soma em um dado eixo, axis = {0: linha, 1: coluna}\n",
        "\n",
        "print(\"x:\\n\", x)\n",
        "print(\"média de todos os elementos de x:\", np.mean(x))\n",
        "print(\"média de x ao longo das linhas:\", np.mean(x, axis=0))\n",
        "print(\"média de x ao longo das coluna:\", np.mean(x, axis=1))"
      ],
      "metadata": {
        "colab": {
          "base_uri": "https://localhost:8080/"
        },
        "id": "dy6IlqaZ2oVV",
        "outputId": "f29d9319-cf72-485b-c2b2-8735e6cea07b"
      },
      "execution_count": 8,
      "outputs": [
        {
          "output_type": "stream",
          "name": "stdout",
          "text": [
            "x:\n",
            " [[ 1  2  3]\n",
            " [ 4 11 21]\n",
            " [42  8  9]]\n",
            "média de todos os elementos de x: 11.222222222222221\n",
            "média de x ao longo das linhas: [15.66666667  7.         11.        ]\n",
            "média de x ao longo das coluna: [ 2.         12.         19.66666667]\n"
          ]
        }
      ]
    },
    {
      "cell_type": "code",
      "source": [
        "# np.where, identificação dos indices onde uma dada condição\n",
        "# é atendida. uso conjunto com indexação booleana\n",
        "\n",
        "cond = x % 2 == 0 \n",
        "print(\"condição: \\n\", cond)\n",
        "i, j = np.where(cond)\n",
        "print(\"indice i (linhas):\", i)\n",
        "print(\"indice j (linhas):\", j)\n"
      ],
      "metadata": {
        "colab": {
          "base_uri": "https://localhost:8080/"
        },
        "id": "fSc4cKAY7-t6",
        "outputId": "cbc72b97-9f4f-46f1-958e-489c9aba5521"
      },
      "execution_count": 11,
      "outputs": [
        {
          "output_type": "stream",
          "name": "stdout",
          "text": [
            "condição: \n",
            " [[False  True False]\n",
            " [ True False False]\n",
            " [ True  True False]]\n",
            "indice i (linhas): [0 1 2 2]\n",
            "indice j (linhas): [1 0 0 1]\n"
          ]
        }
      ]
    },
    {
      "cell_type": "code",
      "source": [],
      "metadata": {
        "id": "5W7q32YpFpn2"
      },
      "execution_count": null,
      "outputs": []
    },
    {
      "cell_type": "code",
      "source": [
        "# indexação : booleana e slicing: selecionar as linhas\n",
        "# de x quepossuem algum numero  par\n",
        "\n",
        "print(\"x:\\n\", x)\n",
        "cond = x % 2 == 0\n",
        "print(\"condição: \\n\", cond)"
      ],
      "metadata": {
        "colab": {
          "base_uri": "https://localhost:8080/"
        },
        "id": "mI_wjrAb9psb",
        "outputId": "fd15beb7-2d6e-468a-e13e-4d4eca4fe3c2"
      },
      "execution_count": 12,
      "outputs": [
        {
          "output_type": "stream",
          "name": "stdout",
          "text": [
            "x:\n",
            " [[ 1  2  3]\n",
            " [ 4 11 21]\n",
            " [42  8  9]]\n",
            "condição: \n",
            " [[False  True False]\n",
            " [ True False False]\n",
            " [ True  True False]]\n"
          ]
        }
      ]
    },
    {
      "cell_type": "code",
      "source": [
        "# se houver alguma condição True na linha, a soma será > 0\n",
        "\n",
        "i_row = np.where(np.sum(cond, axis=1))[0]\n",
        "print(\"indice das linhas que possuem numeros pares:\", i_row)\n",
        "print(\"linhas que possuem números pares:\\n\", x[i_row, :])"
      ],
      "metadata": {
        "colab": {
          "base_uri": "https://localhost:8080/"
        },
        "id": "3s5_B2CxFXbK",
        "outputId": "62b0c71d-b89e-4e7f-fd1d-adf2ae9ab078"
      },
      "execution_count": 14,
      "outputs": [
        {
          "output_type": "stream",
          "name": "stdout",
          "text": [
            "indice das linhas que possuem numeros pares: [0 1 2]\n",
            "linhas que possuem números pares:\n",
            " [[ 1  2  3]\n",
            " [ 4 11 21]\n",
            " [42  8  9]]\n"
          ]
        }
      ]
    },
    {
      "cell_type": "markdown",
      "source": [
        "# **Regressão linear no Numpy**"
      ],
      "metadata": {
        "id": "tPrDdMorX82n"
      }
    },
    {
      "cell_type": "code",
      "source": [
        "# Visualização de dados\n",
        "\n",
        "import matplotlib.pyplot as plt\n"
      ],
      "metadata": {
        "id": "QLjWLcwDYCOu"
      },
      "execution_count": 5,
      "outputs": []
    },
    {
      "cell_type": "code",
      "source": [
        "# dados\n",
        "\n",
        "x = [-1., -0.77777778, -0.55555556, -0.33333333, -0.11111111, 0.11111111, 0.33333333, 0.55555556, 0.77777778, 1.]\n",
        "y = [-1.13956201, -0.57177999, -0.21607033, 0.5425699, 0.49406657, 1.14972239,\n",
        "     1.64228553, 2.1749824, 2.64773614, 2.95684202] "
      ],
      "metadata": {
        "id": "URS6aaJHYKmU"
      },
      "execution_count": 3,
      "outputs": []
    },
    {
      "cell_type": "code",
      "source": [
        "# ployt dos dados\n",
        "\n",
        "plt.figure(figsize=(10, 5))\n",
        "plt.plot(x  , y, 'o', label='dados originais')\n",
        "plt.legend()\n",
        "plt.xlabel(\"x\")\n",
        "plt.xlabel(\"y\")\n",
        "plt.grid()\n",
        "plt.show()"
      ],
      "metadata": {
        "colab": {
          "base_uri": "https://localhost:8080/",
          "height": 334
        },
        "id": "0c9wwpqAZVQM",
        "outputId": "e6158f2b-7375-4499-8c90-ee9928b5b9b5"
      },
      "execution_count": 6,
      "outputs": [
        {
          "output_type": "display_data",
          "data": {
            "text/plain": [
              "<Figure size 720x360 with 1 Axes>"
            ],
            "image/png": "[encoded data removed]"
          },
          "metadata": {
            "needs_background": "light"
          }
        }
      ]
    },
    {
      "cell_type": "code",
      "source": [
        "# transformando para numpy e vetor coluna\n",
        "\n",
        "import numpy as np\n",
        "\n",
        "x, y = np.array(x).reshape(-1, 1), np.array(y).reshape(-1, 1)"
      ],
      "metadata": {
        "id": "NRVu_H66tyPk"
      },
      "execution_count": 9,
      "outputs": []
    },
    {
      "cell_type": "code",
      "source": [
        "# adicionando bias: para estimar o termo b\n",
        "\n",
        "x = np.hstack((x, np.ones(x.shape)))"
      ],
      "metadata": {
        "id": "k73cVn5buPXp"
      },
      "execution_count": 12,
      "outputs": []
    },
    {
      "cell_type": "code",
      "source": [
        "# estimando a e b\n",
        "\n",
        "beta = np.linalg.pinv(x).dot(y)\n",
        "print(\"a estimado:\", beta [0][0])\n",
        "print(\"b estimado:\", beta [1][0])\n"
      ],
      "metadata": {
        "colab": {
          "base_uri": "https://localhost:8080/"
        },
        "id": "W4cOHTI3u6l2",
        "outputId": "577333c2-ff70-4365-8e6f-b334423f5899"
      },
      "execution_count": 13,
      "outputs": [
        {
          "output_type": "stream",
          "name": "stdout",
          "text": [
            "a estimado: 2.0540267847651332\n",
            "b estimado: 0.968079262\n"
          ]
        }
      ]
    },
    {
      "cell_type": "code",
      "source": [
        "plt.figure(figsize=(10, 5))\n",
        "plt.plot(x, y, 'o', label='dados originais')\n",
        "plt.plot(x, x.dot(beta), label='regressão linear')\n",
        "plt.legend()\n",
        "#plt.xlabel(\"x\")\n",
        "plt.ylabel(\"y\")\n",
        "plt.title(\"regressão linear com numpy\")\n",
        "plt.grid()\n",
        "plt.show()"
      ],
      "metadata": {
        "colab": {
          "base_uri": "https://localhost:8080/",
          "height": 336
        },
        "id": "KIuamtGHz6VJ",
        "outputId": "df935d4b-354a-4619-dee4-0c2182dae860"
      },
      "execution_count": 23,
      "outputs": [
        {
          "output_type": "display_data",
          "data": {
            "text/plain": [
              "<Figure size 720x360 with 1 Axes>"
            ],
            "image/png": "[encoded data removed]"
          },
          "metadata": {
            "needs_background": "light"
          }
        }
      ]
    },
    {
      "cell_type": "markdown",
      "source": [
        "# **Pandas**"
      ],
      "metadata": {
        "id": "RA_FBoTeFoCo"
      }
    },
    {
      "cell_type": "code",
      "source": [
        "  # importando as bibliotecas\n",
        "\n",
        "  import pandas as pd"
      ],
      "metadata": {
        "id": "ptzWswdmFkhl"
      },
      "execution_count": 10,
      "outputs": []
    },
    {
      "cell_type": "code",
      "source": [
        "# leitura dos dados CSV\n",
        "\n",
        "import pandas as pd\n",
        "\n",
        "df=pd.read_csv(\"http://pycourse.s3.amazonaws.com/temperature.csv\")\n",
        "df"
      ],
      "metadata": {
        "colab": {
          "base_uri": "https://localhost:8080/",
          "height": 238
        },
        "id": "bbqhbzFoFxBX",
        "outputId": "c0f35e92-c253-4feb-a6f2-d7aa97c883a8"
      },
      "execution_count": 8,
      "outputs": [
        {
          "output_type": "execute_result",
          "data": {
            "text/plain": [
              "         date  temperatura classification\n",
              "0  2020-01-01         29.1         quente\n",
              "1  2020-02-01         31.2   muito quente\n",
              "2  2020-03-01         28.5         quente\n",
              "3  2020-04-01         28.0         quente\n",
              "4  2020-05-01         24.0    confortavel\n",
              "5  2020-06-01         20.0           frio"
            ],
            "text/html": [
              "\n",
              "  <div id=\"df-21ce9370-85a4-421d-9eb5-0e3d76e42230\">\n",
              "    <div class=\"colab-df-container\">\n",
              "      <div>\n",
              "<style scoped>\n",
              "    .dataframe tbody tr th:only-of-type {\n",
              "        vertical-align: middle;\n",
              "    }\n",
              "\n",
              "    .dataframe tbody tr th {\n",
              "        vertical-align: top;\n",
              "    }\n",
              "\n",
              "    .dataframe thead th {\n",
              "        text-align: right;\n",
              "    }\n",
              "</style>\n",
              "<table border=\"1\" class=\"dataframe\">\n",
              "  <thead>\n",
              "    <tr style=\"text-align: right;\">\n",
              "      <th></th>\n",
              "      <th>date</th>\n",
              "      <th>temperatura</th>\n",
              "      <th>classification</th>\n",
              "    </tr>\n",
              "  </thead>\n",
              "  <tbody>\n",
              "    <tr>\n",
              "      <th>0</th>\n",
              "      <td>2020-01-01</td>\n",
              "      <td>29.1</td>\n",
              "      <td>quente</td>\n",
              "    </tr>\n",
              "    <tr>\n",
              "      <th>1</th>\n",
              "      <td>2020-02-01</td>\n",
              "      <td>31.2</td>\n",
              "      <td>muito quente</td>\n",
              "    </tr>\n",
              "    <tr>\n",
              "      <th>2</th>\n",
              "      <td>2020-03-01</td>\n",
              "      <td>28.5</td>\n",
              "      <td>quente</td>\n",
              "    </tr>\n",
              "    <tr>\n",
              "      <th>3</th>\n",
              "      <td>2020-04-01</td>\n",
              "      <td>28.0</td>\n",
              "      <td>quente</td>\n",
              "    </tr>\n",
              "    <tr>\n",
              "      <th>4</th>\n",
              "      <td>2020-05-01</td>\n",
              "      <td>24.0</td>\n",
              "      <td>confortavel</td>\n",
              "    </tr>\n",
              "    <tr>\n",
              "      <th>5</th>\n",
              "      <td>2020-06-01</td>\n",
              "      <td>20.0</td>\n",
              "      <td>frio</td>\n",
              "    </tr>\n",
              "  </tbody>\n",
              "</table>\n",
              "</div>\n",
              "      <button class=\"colab-df-convert\" onclick=\"convertToInteractive('df-21ce9370-85a4-421d-9eb5-0e3d76e42230')\"\n",
              "              title=\"Convert this dataframe to an interactive table.\"\n",
              "              style=\"display:none;\">\n",
              "        \n",
              "  <svg xmlns=\"http://www.w3.org/2000/svg\" height=\"24px\"viewBox=\"0 0 24 24\"\n",
              "       width=\"24px\">\n",
              "    <path d=\"M0 0h24v24H0V0z\" fill=\"none\"/>\n",
              "    <path d=\"M18.56 5.44l.94 2.06.94-2.06 2.06-.94-2.06-.94-.94-2.06-.94 2.06-2.06.94zm-11 1L8.5 8.5l.94-2.06 2.06-.94-2.06-.94L8.5 2.5l-.94 2.06-2.06.94zm10 10l.94 2.06.94-2.06 2.06-.94-2.06-.94-.94-2.06-.94 2.06-2.06.94z\"/><path d=\"M17.41 7.96l-1.37-1.37c-.4-.4-.92-.59-1.43-.59-.52 0-1.04.2-1.43.59L10.3 9.45l-7.72 7.72c-.78.78-.78 2.05 0 2.83L4 21.41c.39.39.9.59 1.41.59.51 0 1.02-.2 1.41-.59l7.78-7.78 2.81-2.81c.8-.78.8-2.07 0-2.86zM5.41 20L4 18.59l7.72-7.72 1.47 1.35L5.41 20z\"/>\n",
              "  </svg>\n",
              "      </button>\n",
              "      \n",
              "  <style>\n",
              "    .colab-df-container {\n",
              "      display:flex;\n",
              "      flex-wrap:wrap;\n",
              "      gap: 12px;\n",
              "    }\n",
              "\n",
              "    .colab-df-convert {\n",
              "      background-color: #E8F0FE;\n",
              "      border: none;\n",
              "      border-radius: 50%;\n",
              "      cursor: pointer;\n",
              "      display: none;\n",
              "      fill: #1967D2;\n",
              "      height: 32px;\n",
              "      padding: 0 0 0 0;\n",
              "      width: 32px;\n",
              "    }\n",
              "\n",
              "    .colab-df-convert:hover {\n",
              "      background-color: #E2EBFA;\n",
              "      box-shadow: 0px 1px 2px rgba(60, 64, 67, 0.3), 0px 1px 3px 1px rgba(60, 64, 67, 0.15);\n",
              "      fill: #174EA6;\n",
              "    }\n",
              "\n",
              "    [theme=dark] .colab-df-convert {\n",
              "      background-color: #3B4455;\n",
              "      fill: #D2E3FC;\n",
              "    }\n",
              "\n",
              "    [theme=dark] .colab-df-convert:hover {\n",
              "      background-color: #434B5C;\n",
              "      box-shadow: 0px 1px 3px 1px rgba(0, 0, 0, 0.15);\n",
              "      filter: drop-shadow(0px 1px 2px rgba(0, 0, 0, 0.3));\n",
              "      fill: #FFFFFF;\n",
              "    }\n",
              "  </style>\n",
              "\n",
              "      <script>\n",
              "        const buttonEl =\n",
              "          document.querySelector('#df-21ce9370-85a4-421d-9eb5-0e3d76e42230 button.colab-df-convert');\n",
              "        buttonEl.style.display =\n",
              "          google.colab.kernel.accessAllowed ? 'block' : 'none';\n",
              "\n",
              "        async function convertToInteractive(key) {\n",
              "          const element = document.querySelector('#df-21ce9370-85a4-421d-9eb5-0e3d76e42230');\n",
              "          const dataTable =\n",
              "            await google.colab.kernel.invokeFunction('convertToInteractive',\n",
              "                                                     [key], {});\n",
              "          if (!dataTable) return;\n",
              "\n",
              "          const docLinkHtml = 'Like what you see? Visit the ' +\n",
              "            '<a target=\"_blank\" href=https://colab.research.google.com/notebooks/data_table.ipynb>data table notebook</a>'\n",
              "            + ' to learn more about interactive tables.';\n",
              "          element.innerHTML = '';\n",
              "          dataTable['output_type'] = 'display_data';\n",
              "          await google.colab.output.renderOutput(dataTable, element);\n",
              "          const docLink = document.createElement('div');\n",
              "          docLink.innerHTML = docLinkHtml;\n",
              "          element.appendChild(docLink);\n",
              "        }\n",
              "      </script>\n",
              "    </div>\n",
              "  </div>\n",
              "  "
            ]
          },
          "metadata": {},
          "execution_count": 8
        }
      ]
    },
    {
      "cell_type": "code",
      "source": [],
      "metadata": {
        "id": "wTZXBnXjOWwm"
      },
      "execution_count": null,
      "outputs": []
    },
    {
      "cell_type": "code",
      "source": [
        "# leitura de planilhas em excel\n",
        "# 2 abas\n",
        "\n",
        "# leitura do arquivo todo\n",
        "\n",
        "import pandas as pd\n",
        "\n",
        "df = pd.read_excel(\"/content/temperature.xlsx\")\n",
        "df\n"
      ],
      "metadata": {
        "colab": {
          "base_uri": "https://localhost:8080/",
          "height": 238
        },
        "id": "l-cJ56BZI6Wa",
        "outputId": "6e55c32b-483a-4a01-de09-846d3e560172"
      },
      "execution_count": 31,
      "outputs": [
        {
          "output_type": "execute_result",
          "data": {
            "text/plain": [
              "        date  temperatura classification\n",
              "0 2020-01-01         29.1         quente\n",
              "1 2020-02-01         31.2   muito quente\n",
              "2 2020-03-01         28.5         quente\n",
              "3 2020-04-01         28.0         quente\n",
              "4 2020-05-01         24.0    confortavel\n",
              "5 2020-06-01         20.0           frio"
            ],
            "text/html": [
              "\n",
              "  <div id=\"df-ef68bbd7-6f68-4758-b22d-6df0f072e688\">\n",
              "    <div class=\"colab-df-container\">\n",
              "      <div>\n",
              "<style scoped>\n",
              "    .dataframe tbody tr th:only-of-type {\n",
              "        vertical-align: middle;\n",
              "    }\n",
              "\n",
              "    .dataframe tbody tr th {\n",
              "        vertical-align: top;\n",
              "    }\n",
              "\n",
              "    .dataframe thead th {\n",
              "        text-align: right;\n",
              "    }\n",
              "</style>\n",
              "<table border=\"1\" class=\"dataframe\">\n",
              "  <thead>\n",
              "    <tr style=\"text-align: right;\">\n",
              "      <th></th>\n",
              "      <th>date</th>\n",
              "      <th>temperatura</th>\n",
              "      <th>classification</th>\n",
              "    </tr>\n",
              "  </thead>\n",
              "  <tbody>\n",
              "    <tr>\n",
              "      <th>0</th>\n",
              "      <td>2020-01-01</td>\n",
              "      <td>29.1</td>\n",
              "      <td>quente</td>\n",
              "    </tr>\n",
              "    <tr>\n",
              "      <th>1</th>\n",
              "      <td>2020-02-01</td>\n",
              "      <td>31.2</td>\n",
              "      <td>muito quente</td>\n",
              "    </tr>\n",
              "    <tr>\n",
              "      <th>2</th>\n",
              "      <td>2020-03-01</td>\n",
              "      <td>28.5</td>\n",
              "      <td>quente</td>\n",
              "    </tr>\n",
              "    <tr>\n",
              "      <th>3</th>\n",
              "      <td>2020-04-01</td>\n",
              "      <td>28.0</td>\n",
              "      <td>quente</td>\n",
              "    </tr>\n",
              "    <tr>\n",
              "      <th>4</th>\n",
              "      <td>2020-05-01</td>\n",
              "      <td>24.0</td>\n",
              "      <td>confortavel</td>\n",
              "    </tr>\n",
              "    <tr>\n",
              "      <th>5</th>\n",
              "      <td>2020-06-01</td>\n",
              "      <td>20.0</td>\n",
              "      <td>frio</td>\n",
              "    </tr>\n",
              "  </tbody>\n",
              "</table>\n",
              "</div>\n",
              "      <button class=\"colab-df-convert\" onclick=\"convertToInteractive('df-ef68bbd7-6f68-4758-b22d-6df0f072e688')\"\n",
              "              title=\"Convert this dataframe to an interactive table.\"\n",
              "              style=\"display:none;\">\n",
              "        \n",
              "  <svg xmlns=\"http://www.w3.org/2000/svg\" height=\"24px\"viewBox=\"0 0 24 24\"\n",
              "       width=\"24px\">\n",
              "    <path d=\"M0 0h24v24H0V0z\" fill=\"none\"/>\n",
              "    <path d=\"M18.56 5.44l.94 2.06.94-2.06 2.06-.94-2.06-.94-.94-2.06-.94 2.06-2.06.94zm-11 1L8.5 8.5l.94-2.06 2.06-.94-2.06-.94L8.5 2.5l-.94 2.06-2.06.94zm10 10l.94 2.06.94-2.06 2.06-.94-2.06-.94-.94-2.06-.94 2.06-2.06.94z\"/><path d=\"M17.41 7.96l-1.37-1.37c-.4-.4-.92-.59-1.43-.59-.52 0-1.04.2-1.43.59L10.3 9.45l-7.72 7.72c-.78.78-.78 2.05 0 2.83L4 21.41c.39.39.9.59 1.41.59.51 0 1.02-.2 1.41-.59l7.78-7.78 2.81-2.81c.8-.78.8-2.07 0-2.86zM5.41 20L4 18.59l7.72-7.72 1.47 1.35L5.41 20z\"/>\n",
              "  </svg>\n",
              "      </button>\n",
              "      \n",
              "  <style>\n",
              "    .colab-df-container {\n",
              "      display:flex;\n",
              "      flex-wrap:wrap;\n",
              "      gap: 12px;\n",
              "    }\n",
              "\n",
              "    .colab-df-convert {\n",
              "      background-color: #E8F0FE;\n",
              "      border: none;\n",
              "      border-radius: 50%;\n",
              "      cursor: pointer;\n",
              "      display: none;\n",
              "      fill: #1967D2;\n",
              "      height: 32px;\n",
              "      padding: 0 0 0 0;\n",
              "      width: 32px;\n",
              "    }\n",
              "\n",
              "    .colab-df-convert:hover {\n",
              "      background-color: #E2EBFA;\n",
              "      box-shadow: 0px 1px 2px rgba(60, 64, 67, 0.3), 0px 1px 3px 1px rgba(60, 64, 67, 0.15);\n",
              "      fill: #174EA6;\n",
              "    }\n",
              "\n",
              "    [theme=dark] .colab-df-convert {\n",
              "      background-color: #3B4455;\n",
              "      fill: #D2E3FC;\n",
              "    }\n",
              "\n",
              "    [theme=dark] .colab-df-convert:hover {\n",
              "      background-color: #434B5C;\n",
              "      box-shadow: 0px 1px 3px 1px rgba(0, 0, 0, 0.15);\n",
              "      filter: drop-shadow(0px 1px 2px rgba(0, 0, 0, 0.3));\n",
              "      fill: #FFFFFF;\n",
              "    }\n",
              "  </style>\n",
              "\n",
              "      <script>\n",
              "        const buttonEl =\n",
              "          document.querySelector('#df-ef68bbd7-6f68-4758-b22d-6df0f072e688 button.colab-df-convert');\n",
              "        buttonEl.style.display =\n",
              "          google.colab.kernel.accessAllowed ? 'block' : 'none';\n",
              "\n",
              "        async function convertToInteractive(key) {\n",
              "          const element = document.querySelector('#df-ef68bbd7-6f68-4758-b22d-6df0f072e688');\n",
              "          const dataTable =\n",
              "            await google.colab.kernel.invokeFunction('convertToInteractive',\n",
              "                                                     [key], {});\n",
              "          if (!dataTable) return;\n",
              "\n",
              "          const docLinkHtml = 'Like what you see? Visit the ' +\n",
              "            '<a target=\"_blank\" href=https://colab.research.google.com/notebooks/data_table.ipynb>data table notebook</a>'\n",
              "            + ' to learn more about interactive tables.';\n",
              "          element.innerHTML = '';\n",
              "          dataTable['output_type'] = 'display_data';\n",
              "          await google.colab.output.renderOutput(dataTable, element);\n",
              "          const docLink = document.createElement('div');\n",
              "          docLink.innerHTML = docLinkHtml;\n",
              "          element.appendChild(docLink);\n",
              "        }\n",
              "      </script>\n",
              "    </div>\n",
              "  </div>\n",
              "  "
            ]
          },
          "metadata": {},
          "execution_count": 31
        }
      ]
    },
    {
      "cell_type": "code",
      "source": [
        "type(excel_file)"
      ],
      "metadata": {
        "colab": {
          "base_uri": "https://localhost:8080/"
        },
        "id": "GzWXfROvP6eu",
        "outputId": "1b84ae45-bf1e-4225-a714-488bd8f2760b"
      },
      "execution_count": 32,
      "outputs": [
        {
          "output_type": "execute_result",
          "data": {
            "text/plain": [
              "pandas.io.excel._base.ExcelFile"
            ]
          },
          "metadata": {},
          "execution_count": 32
        }
      ]
    },
    {
      "cell_type": "code",
      "source": [
        "df['temperatura']"
      ],
      "metadata": {
        "colab": {
          "base_uri": "https://localhost:8080/"
        },
        "id": "eFNOCsrSm1gS",
        "outputId": "45e1a360-d1b4-4194-bd29-0aa4880a94c0"
      },
      "execution_count": 33,
      "outputs": [
        {
          "output_type": "execute_result",
          "data": {
            "text/plain": [
              "0    29.1\n",
              "1    31.2\n",
              "2    28.5\n",
              "3    28.0\n",
              "4    24.0\n",
              "5    20.0\n",
              "Name: temperatura, dtype: float64"
            ]
          },
          "metadata": {},
          "execution_count": 33
        }
      ]
    },
    {
      "cell_type": "code",
      "source": [
        "df['date']"
      ],
      "metadata": {
        "colab": {
          "base_uri": "https://localhost:8080/"
        },
        "id": "TK7qdtwHnBXl",
        "outputId": "fba8d666-dbc3-4e7a-8820-51e5148cbf72"
      },
      "execution_count": 34,
      "outputs": [
        {
          "output_type": "execute_result",
          "data": {
            "text/plain": [
              "0   2020-01-01\n",
              "1   2020-02-01\n",
              "2   2020-03-01\n",
              "3   2020-04-01\n",
              "4   2020-05-01\n",
              "5   2020-06-01\n",
              "Name: date, dtype: datetime64[ns]"
            ]
          },
          "metadata": {},
          "execution_count": 34
        }
      ]
    },
    {
      "cell_type": "code",
      "source": [
        "data_frame[['temperatura','classification']]"
      ],
      "metadata": {
        "colab": {
          "base_uri": "https://localhost:8080/",
          "height": 165
        },
        "id": "cNn4wKqCnpvC",
        "outputId": "befb3182-ff90-434a-cd1f-ff5df93d6957"
      },
      "execution_count": 36,
      "outputs": [
        {
          "output_type": "error",
          "ename": "NameError",
          "evalue": "ignored",
          "traceback": [
            "\u001b[0;31m---------------------------------------------------------------------------\u001b[0m",
            "\u001b[0;31mNameError\u001b[0m                                 Traceback (most recent call last)",
            "\u001b[0;32m<ipython-input-36-71906eba6ffb>\u001b[0m in \u001b[0;36m<module>\u001b[0;34m\u001b[0m\n\u001b[0;32m----> 1\u001b[0;31m \u001b[0mdata_frame\u001b[0m\u001b[0;34m[\u001b[0m\u001b[0;34m[\u001b[0m\u001b[0;34m'temperatura'\u001b[0m\u001b[0;34m,\u001b[0m\u001b[0;34m'classification'\u001b[0m\u001b[0;34m]\u001b[0m\u001b[0;34m]\u001b[0m\u001b[0;34m\u001b[0m\u001b[0;34m\u001b[0m\u001b[0m\n\u001b[0m",
            "\u001b[0;31mNameError\u001b[0m: name 'data_frame' is not defined"
          ]
        }
      ]
    }
  ],
  "metadata": {
    "colab": {
      "provenance": [],
      "include_colab_link": true
    },
    "kernelspec": {
      "display_name": "Python 3",
      "name": "python3"
    }
  },
  "nbformat": 4,
  "nbformat_minor": 0
}