{
  "cells": [
    {
      "cell_type": "markdown",
      "metadata": {
        "id": "view-in-github",
        "colab_type": "text"
      },
      "source": [
        "<a href=\"https://colab.research.google.com/github/leofalcao/Jornada_Python/blob/main/Google_Colab.ipynb\" target=\"_parent\"><img src=\"https://colab.research.google.com/assets/colab-badge.svg\" alt=\"Open In Colab\"/></a>"
      ]
    },
    {
      "cell_type": "markdown",
      "source": [
        "***Primeiro Código***"
      ],
      "metadata": {
        "id": "Gqt-WnGH7q-5"
      }
    },
    {
      "cell_type": "code",
      "source": [
        "print('hello mundo!')"
      ],
      "metadata": {
        "colab": {
          "base_uri": "https://localhost:8080/"
        },
        "id": "8YKoyCK37LLg",
        "outputId": "f057b566-3b55-49fe-8502-89112314f287"
      },
      "execution_count": null,
      "outputs": [
        {
          "output_type": "stream",
          "name": "stdout",
          "text": [
            "hello mundo!\n"
          ]
        }
      ]
    },
    {
      "cell_type": "markdown",
      "source": [
        "**Criando Comentário**"
      ],
      "metadata": {
        "id": "C1qEQcxN8Y_z"
      }
    },
    {
      "cell_type": "code",
      "source": [
        "#Aprendendo Python"
      ],
      "metadata": {
        "id": "IKH27Snw8cmC"
      },
      "execution_count": null,
      "outputs": []
    },
    {
      "cell_type": "markdown",
      "source": [
        "***Tipos de dados***"
      ],
      "metadata": {
        "id": "JMkYWYMoAelQ"
      }
    },
    {
      "cell_type": "code",
      "source": [
        "nome='leonardo'\n",
        "sobrenome='falcão'\n",
        "print(nome+' '+sobrenome)"
      ],
      "metadata": {
        "colab": {
          "base_uri": "https://localhost:8080/"
        },
        "id": "QwRo9w0kAiJR",
        "outputId": "76642ccf-a271-4d9f-8a8e-c6e8de0a5dab"
      },
      "execution_count": null,
      "outputs": [
        {
          "output_type": "stream",
          "name": "stdout",
          "text": [
            "leonardo falcão\n"
          ]
        }
      ]
    },
    {
      "cell_type": "code",
      "source": [
        "nome='leonardo'\n",
        "sobrenome='falcão'\n",
        "altura=1,75\n",
        "peso=70\n",
        "print(nome.capitalize()+' '+sobrenome.capitalize())"
      ],
      "metadata": {
        "colab": {
          "base_uri": "https://localhost:8080/"
        },
        "id": "TuHWjaWUCM1W",
        "outputId": "ac53c0c9-685d-4112-c1de-06af9c94e22d"
      },
      "execution_count": null,
      "outputs": [
        {
          "output_type": "stream",
          "name": "stdout",
          "text": [
            "Leonardo Falcão\n"
          ]
        }
      ]
    },
    {
      "cell_type": "code",
      "source": [
        "nome='leonardo'\n",
        "sobrenome='falcão'\n",
        "idade=35\n",
        "altura=1,75\n",
        "peso=70\n",
        "print(f'meu nome é {nome} {sobrenome.capitalize()}, tenho {idade} anos e meço {altura} m')"
      ],
      "metadata": {
        "colab": {
          "base_uri": "https://localhost:8080/"
        },
        "id": "TucSQuBVCdB-",
        "outputId": "8a8abc7f-24a8-4e00-9e68-0fcd522cd2b5"
      },
      "execution_count": null,
      "outputs": [
        {
          "output_type": "stream",
          "name": "stdout",
          "text": [
            "meu nome é leonardo Falcão, tenho 35 anos e meço (1, 75) m\n"
          ]
        }
      ]
    },
    {
      "cell_type": "code",
      "source": [],
      "metadata": {
        "id": "Zpn_YJRfDlxY"
      },
      "execution_count": null,
      "outputs": []
    },
    {
      "cell_type": "markdown",
      "source": [
        " ***Strinhs em Python***"
      ],
      "metadata": {
        "id": "h3fdJAdrD_c0"
      }
    },
    {
      "cell_type": "code",
      "source": [
        "nome = 'Guido'\n",
        "sobrenome = 'Von Rossun'\n",
        "nome_completo=nome+' '+sobrenome\n",
        "print(nome_completo.upper())"
      ],
      "metadata": {
        "colab": {
          "base_uri": "https://localhost:8080/"
        },
        "id": "7UW3BN_5EDwC",
        "outputId": "acb36096-ec21-4bb7-f6a1-b93aa0884808"
      },
      "execution_count": null,
      "outputs": [
        {
          "output_type": "stream",
          "name": "stdout",
          "text": [
            "GUIDO VON ROSSUN\n"
          ]
        }
      ]
    },
    {
      "cell_type": "code",
      "source": [
        "nome = 'Guido'\n",
        "sobrenome = 'Von Rossun'\n",
        "nome_completo=nome+' '+sobrenome\n",
        "print(nome_completo.lower())"
      ],
      "metadata": {
        "colab": {
          "base_uri": "https://localhost:8080/"
        },
        "id": "h4ajL-oeFAk8",
        "outputId": "b0fc310f-adae-41e4-b391-2b8a90dbb8f5"
      },
      "execution_count": null,
      "outputs": [
        {
          "output_type": "stream",
          "name": "stdout",
          "text": [
            "guido von rossun\n"
          ]
        }
      ]
    },
    {
      "cell_type": "code",
      "source": [
        "nome = 'Guido'\n",
        "sobrenome = 'Von Rossun'\n",
        "nome_completo=nome+' '+sobrenome\n",
        "print(nome_completo +' '+'é o criador da linguagem de programação python')"
      ],
      "metadata": {
        "colab": {
          "base_uri": "https://localhost:8080/"
        },
        "id": "Njllkou8FGrR",
        "outputId": "2391f6ae-766e-46e2-fc03-8fa3f46b25ae"
      },
      "execution_count": null,
      "outputs": [
        {
          "output_type": "stream",
          "name": "stdout",
          "text": [
            "Guido Von Rossun é o criador da linguagem de programação python\n"
          ]
        }
      ]
    },
    {
      "cell_type": "code",
      "source": [
        "nome = 'Guido'\n",
        "sobrenome = 'Von Rossun'\n",
        "nome_completo=nome+' '+sobrenome\n",
        "print(nome_completo +'é o criador da \\nlinguagem de programação python')"
      ],
      "metadata": {
        "colab": {
          "base_uri": "https://localhost:8080/"
        },
        "id": "1x-YQpXvGHyK",
        "outputId": "48041e7f-15be-4407-e8fa-19673e43cf40"
      },
      "execution_count": null,
      "outputs": [
        {
          "output_type": "stream",
          "name": "stdout",
          "text": [
            "Guido Von Rossuné o criador da \n",
            "linguagem de programação python\n"
          ]
        }
      ]
    },
    {
      "cell_type": "code",
      "source": [],
      "metadata": {
        "id": "npjAOHJpMp_t"
      },
      "execution_count": null,
      "outputs": []
    },
    {
      "cell_type": "code",
      "source": [
        "nome = 'Guido'\n",
        "sobrenome = 'Von Rossun'\n",
        "nome_completo=nome+' '+sobrenome\n",
        "print('\\t'+nome_completo +'é o criador da \\nlinguagem de programação python')"
      ],
      "metadata": {
        "colab": {
          "base_uri": "https://localhost:8080/"
        },
        "id": "5PViknuuMx2f",
        "outputId": "563b4524-01a6-4d43-8516-7fd40c53319c"
      },
      "execution_count": null,
      "outputs": [
        {
          "output_type": "stream",
          "name": "stdout",
          "text": [
            "\tGuido Von Rossuné o criador da \n",
            "linguagem de programação python\n"
          ]
        }
      ]
    },
    {
      "cell_type": "code",
      "source": [
        "mês=str('janeiro')\n",
        "print(mês)"
      ],
      "metadata": {
        "colab": {
          "base_uri": "https://localhost:8080/"
        },
        "id": "S3_6e75fNkVq",
        "outputId": "7fd20fd1-d7c7-44cc-d038-b82cdebf4637"
      },
      "execution_count": null,
      "outputs": [
        {
          "output_type": "stream",
          "name": "stdout",
          "text": [
            "janeiro\n"
          ]
        }
      ]
    },
    {
      "cell_type": "markdown",
      "source": [
        "***Formatação de strings com Formar***"
      ],
      "metadata": {
        "id": "OKfLgAtEOBvq"
      }
    },
    {
      "cell_type": "code",
      "source": [
        "nome='Jõao'\n",
        "sobrenome='Oliveira'\n",
        "idade=40\n",
        "print('Meu nome é {} {} e tenho {} anos'.format(nome,sobrenome,idade))"
      ],
      "metadata": {
        "colab": {
          "base_uri": "https://localhost:8080/"
        },
        "id": "b_5LNLy-N9Ij",
        "outputId": "528b414c-88e0-4df4-89c4-35a54422801f"
      },
      "execution_count": null,
      "outputs": [
        {
          "output_type": "stream",
          "name": "stdout",
          "text": [
            "Meu nome é Jõao Oliveira e tenho 40 anos\n"
          ]
        }
      ]
    },
    {
      "cell_type": "code",
      "source": [
        "valor = 547.58\n",
        "print('O valor é {}'.format(valor))"
      ],
      "metadata": {
        "colab": {
          "base_uri": "https://localhost:8080/"
        },
        "id": "OWe7Oda3Ouyp",
        "outputId": "15b43806-4819-4892-b3b0-970ff48796fb"
      },
      "execution_count": null,
      "outputs": [
        {
          "output_type": "stream",
          "name": "stdout",
          "text": [
            "O valor é 547.58\n"
          ]
        }
      ]
    },
    {
      "cell_type": "code",
      "source": [
        "valor = 547.58\n",
        "print('O valor é {valor:.1f}'.format(valor=valor))"
      ],
      "metadata": {
        "colab": {
          "base_uri": "https://localhost:8080/"
        },
        "id": "PTbkSKd7XGBG",
        "outputId": "d378ab14-8749-4846-c54d-e5dc17bc9e8c"
      },
      "execution_count": null,
      "outputs": [
        {
          "output_type": "stream",
          "name": "stdout",
          "text": [
            "O valor é 547.6\n"
          ]
        }
      ]
    },
    {
      "cell_type": "markdown",
      "source": [
        " ***Formatação de Strings com F-strings***"
      ],
      "metadata": {
        "id": "xByem0D2XlTt"
      }
    },
    {
      "cell_type": "code",
      "source": [
        "titulo='monitor gamer'\n",
        "Polegadas=34\n",
        "print(f'Nome do Produto: {titulo} e tamanho: {Polegadas}polegadas')"
      ],
      "metadata": {
        "colab": {
          "base_uri": "https://localhost:8080/"
        },
        "id": "GzwUvdurXrOD",
        "outputId": "725cedd7-3661-453b-8d8a-4f92285b93cc"
      },
      "execution_count": null,
      "outputs": [
        {
          "output_type": "stream",
          "name": "stdout",
          "text": [
            "Nome do Produto: monitor gamer e tamanho: 34polegadas\n"
          ]
        }
      ]
    },
    {
      "cell_type": "code",
      "source": [
        "titulo='monitor gamer'\n",
        "Polegadas=34\n",
        "preço=1299.99\n",
        "print(\n",
        "    f'Produto: {titulo.upper()}\\n'\n",
        "    f'tamanho: {Polegadas} polegadas\\n'\n",
        "    f'Preço: R${preço}'\n",
        ")"
      ],
      "metadata": {
        "colab": {
          "base_uri": "https://localhost:8080/"
        },
        "id": "9aWOovU4GEau",
        "outputId": "413f8385-44ab-454c-f3cd-26c2eee27e5c"
      },
      "execution_count": null,
      "outputs": [
        {
          "output_type": "stream",
          "name": "stdout",
          "text": [
            "Produto: MONITOR GAMER\n",
            "tamanho: 34 polegadas\n",
            "Preço: R$1299.99\n"
          ]
        }
      ]
    },
    {
      "cell_type": "code",
      "source": [
        "titulo='monitor gamer'\n",
        "Polegadas= 34\n",
        "preço= 1299.99\n",
        "print(\n",
        "    f'Produto: {titulo.upper():*^50}\\n'\n",
        "    f'tamanho: {Polegadas} polegadas\\n'\n",
        "    f'preço: R$ {preço}'\n",
        ")"
      ],
      "metadata": {
        "colab": {
          "base_uri": "https://localhost:8080/"
        },
        "id": "V9AmREnPbVKr",
        "outputId": "20a7539f-d86e-47e4-c9ba-5ffc8f3a7592"
      },
      "execution_count": null,
      "outputs": [
        {
          "output_type": "stream",
          "name": "stdout",
          "text": [
            "Produto: ******************MONITOR GAMER*******************\n",
            "tamanho: 34 polegadas\n",
            "preço: R$ 1299.99\n"
          ]
        }
      ]
    },
    {
      "cell_type": "code",
      "source": [
        "titulo='monitor gamer'\n",
        "Polegadas= 34\n",
        "preço= 1299.99\n",
        "print(\n",
        "    f'Produto: {titulo.upper():&^50}\\n'\n",
        "    f'tamanho: {Polegadas} polegadas\\n'\n",
        "    f'preço: R$ {preço}'\n",
        ")"
      ],
      "metadata": {
        "colab": {
          "base_uri": "https://localhost:8080/"
        },
        "id": "UmNjcmFMcEh6",
        "outputId": "c958ece9-6862-4c71-9fef-c26cb3e9f901"
      },
      "execution_count": null,
      "outputs": [
        {
          "output_type": "stream",
          "name": "stdout",
          "text": [
            "Produto: &&&&&&&&&&&&&&&&&&MONITOR GAMER&&&&&&&&&&&&&&&&&&&\n",
            "tamanho: 34 polegadas\n",
            "preço: R$ 1299.99\n"
          ]
        }
      ]
    },
    {
      "cell_type": "markdown",
      "source": [
        " ***Método de Strings***"
      ],
      "metadata": {
        "id": "qsUl5RP_caeI"
      }
    },
    {
      "cell_type": "code",
      "source": [
        "# .Strip - Elimina os espaços em branco\n",
        "# .upper - Transforma todos os caracteres em maiusculo\n",
        "# .lower - Transforma todos os caracteres em maiusculo\n",
        "# .replace - Substitui os carcteres \n",
        "# .count - Contar o numero de ocorrências do \"caracter\"\n",
        "# .Center - centralizar o texto\n",
        "# .index - A posição da ocorrencia\n",
        "# .insumeric - Pega string testando se todos os caracteres são numerico\n",
        "# .split - Quebra a string em determinado caracter \n",
        "# .title - Pega o primeiro caracter de cada palavra e torna maiusculo\n",
        "# .capitalize - Pega apenas o primeiro caracter e torna maiusculo\n",
        "# .zfill - completar com zero a esquerda as strings numericas\n",
        "\n",
        "print('  t;ex;t;o   '.strip().replace(';','').center(25, '*').upper())\n",
        "\n",
        "\n",
        "\n"
      ],
      "metadata": {
        "colab": {
          "base_uri": "https://localhost:8080/"
        },
        "id": "gS-YiYIDcfHt",
        "outputId": "fb968cc7-f05d-4016-a205-529f78f8f5e0"
      },
      "execution_count": null,
      "outputs": [
        {
          "output_type": "stream",
          "name": "stdout",
          "text": [
            "**********TEXTO**********\n"
          ]
        }
      ]
    },
    {
      "cell_type": "code",
      "source": [
        "# Tamanho de uma string\n",
        "\n",
        "String_extensa= \"Essa é um string extensa. Como faremos\"\\\n",
        "               \"Para saber seu tamanho?\"\n",
        "\n",
        "print(len(String_extensa))\n",
        "\n",
        "         "
      ],
      "metadata": {
        "id": "Wna7tPcugZTt",
        "outputId": "e559c661-faf2-4769-cfc4-741995cc5fb9",
        "colab": {
          "base_uri": "https://localhost:8080/"
        }
      },
      "execution_count": null,
      "outputs": [
        {
          "output_type": "stream",
          "name": "stdout",
          "text": [
            "61\n"
          ]
        }
      ]
    },
    {
      "cell_type": "markdown",
      "source": [
        "***Indice de String***"
      ],
      "metadata": {
        "id": "mfUhhSk6-Tva"
      }
    },
    {
      "cell_type": "code",
      "source": [
        "nome='Python'\n",
        "print(nome[-1])"
      ],
      "metadata": {
        "colab": {
          "base_uri": "https://localhost:8080/"
        },
        "id": "bxG6MFow-TMR",
        "outputId": "3ed2f325-b7ad-4260-afd4-1ae7c4e29f8b"
      },
      "execution_count": null,
      "outputs": [
        {
          "output_type": "stream",
          "name": "stdout",
          "text": [
            "n\n"
          ]
        }
      ]
    },
    {
      "cell_type": "code",
      "source": [
        "texto=('Meu nome é Leonardo Falcão Lima.')\n",
        "print(texto[-1]=='.')"
      ],
      "metadata": {
        "colab": {
          "base_uri": "https://localhost:8080/"
        },
        "id": "jjF3fBr9_ubJ",
        "outputId": "22a79391-3fe1-452f-b070-99ebd1dc0f5a"
      },
      "execution_count": null,
      "outputs": [
        {
          "output_type": "stream",
          "name": "stdout",
          "text": [
            "True\n"
          ]
        }
      ]
    },
    {
      "cell_type": "markdown",
      "source": [
        " ***Conversão de tipos***"
      ],
      "metadata": {
        "id": "qXqfWd96BlJG"
      }
    },
    {
      "cell_type": "markdown",
      "source": [],
      "metadata": {
        "id": "KVEv-RxiXgYp"
      }
    },
    {
      "cell_type": "code",
      "source": [
        "idade=35\n",
        "\n",
        "texto=(f'Parabnes leonardo, pelos seus' + str(idade) + 'de idade')\n",
        "print(texto)"
      ],
      "metadata": {
        "id": "-okP2cqG7wn9",
        "colab": {
          "base_uri": "https://localhost:8080/"
        },
        "outputId": "d3d68ef5-a5dc-4b6d-fc85-497b05d07c0c"
      },
      "execution_count": null,
      "outputs": [
        {
          "output_type": "stream",
          "name": "stdout",
          "text": [
            "Parabnes leonardo, pelos seus35de idade\n"
          ]
        }
      ]
    },
    {
      "cell_type": "code",
      "source": [
        "pontuacao_str = '10'\n",
        "pontuacao_int = int(pontuacao_str)\n",
        "\n",
        "print(pontuacao_str)\n",
        "print(f'tipo: {type(pontuacao_int)}')"
      ],
      "metadata": {
        "colab": {
          "base_uri": "https://localhost:8080/"
        },
        "id": "9AAA0XeIDS_R",
        "outputId": "9e427446-1574-4557-e16f-6d5966ea0f22"
      },
      "execution_count": null,
      "outputs": [
        {
          "output_type": "stream",
          "name": "stdout",
          "text": [
            "10\n",
            "tipo: <class 'int'>\n"
          ]
        }
      ]
    },
    {
      "cell_type": "code",
      "source": [
        "pontuacao_str = '5.5'\n",
        "pontuacao_float = float(pontuacao_str)\n",
        "\n",
        "print(pontuacao_float)\n",
        "print(f'tipo: {type(pontuacao_float)}')"
      ],
      "metadata": {
        "colab": {
          "base_uri": "https://localhost:8080/"
        },
        "id": "Mm7XEqLmFs3m",
        "outputId": "38cd8fee-7306-4df5-f142-07eb44bbc5b6"
      },
      "execution_count": null,
      "outputs": [
        {
          "output_type": "stream",
          "name": "stdout",
          "text": [
            "5.5\n",
            "tipo: <class 'float'>\n"
          ]
        }
      ]
    },
    {
      "cell_type": "markdown",
      "source": [
        " ***Tratamento de Tipos numéricos***"
      ],
      "metadata": {
        "id": "UiU2aVyKuia5"
      }
    },
    {
      "cell_type": "code",
      "source": [
        "round(5.4)\n"
      ],
      "metadata": {
        "colab": {
          "base_uri": "https://localhost:8080/"
        },
        "id": "EWBnc7i9umXf",
        "outputId": "fa023af2-cd8e-484d-9474-1894d954438a"
      },
      "execution_count": null,
      "outputs": [
        {
          "output_type": "execute_result",
          "data": {
            "text/plain": [
              "5"
            ]
          },
          "metadata": {},
          "execution_count": 1
        }
      ]
    },
    {
      "cell_type": "code",
      "source": [
        "round(7.3)"
      ],
      "metadata": {
        "colab": {
          "base_uri": "https://localhost:8080/"
        },
        "id": "Vl6OCVoFuzQK",
        "outputId": "5fdb0020-31fa-4b89-b5a1-df6c5fbf755a"
      },
      "execution_count": null,
      "outputs": [
        {
          "output_type": "execute_result",
          "data": {
            "text/plain": [
              "7"
            ]
          },
          "metadata": {},
          "execution_count": 3
        }
      ]
    },
    {
      "cell_type": "code",
      "source": [
        "round(6.345,2)"
      ],
      "metadata": {
        "colab": {
          "base_uri": "https://localhost:8080/"
        },
        "id": "nlpGiMUTu_Mp",
        "outputId": "a6238ddb-db93-4489-a152-3d10cd0a6430"
      },
      "execution_count": null,
      "outputs": [
        {
          "output_type": "execute_result",
          "data": {
            "text/plain": [
              "6.34"
            ]
          },
          "metadata": {},
          "execution_count": 4
        }
      ]
    },
    {
      "cell_type": "markdown",
      "source": [
        " ***Import e módulo Math***"
      ],
      "metadata": {
        "id": "-9O7ChSEzd_3"
      }
    },
    {
      "cell_type": "code",
      "source": [
        "import math\n",
        "math.ceil(2.4)\n",
        "\n"
      ],
      "metadata": {
        "colab": {
          "base_uri": "https://localhost:8080/"
        },
        "id": "hpcqCBj-Cytq",
        "outputId": "3650ef49-dc30-4a6a-8f67-35cab01d7ff9"
      },
      "execution_count": null,
      "outputs": [
        {
          "output_type": "execute_result",
          "data": {
            "text/plain": [
              "3"
            ]
          },
          "metadata": {},
          "execution_count": 12
        }
      ]
    },
    {
      "cell_type": "code",
      "source": [
        "math.ceil(6.9)"
      ],
      "metadata": {
        "colab": {
          "base_uri": "https://localhost:8080/"
        },
        "id": "RhNhSjks979f",
        "outputId": "c1581268-80fb-4f20-ce20-918f8eb5a832"
      },
      "execution_count": null,
      "outputs": [
        {
          "output_type": "execute_result",
          "data": {
            "text/plain": [
              "7"
            ]
          },
          "metadata": {},
          "execution_count": 13
        }
      ]
    },
    {
      "cell_type": "code",
      "source": [
        "math.floor(5.999)"
      ],
      "metadata": {
        "colab": {
          "base_uri": "https://localhost:8080/"
        },
        "id": "TIwzXb6m-LHv",
        "outputId": "07ba83de-69e9-4d7e-e8be-5bab07cfcc50"
      },
      "execution_count": null,
      "outputs": [
        {
          "output_type": "execute_result",
          "data": {
            "text/plain": [
              "5"
            ]
          },
          "metadata": {},
          "execution_count": 14
        }
      ]
    },
    {
      "cell_type": "markdown",
      "source": [
        " ***Input***"
      ],
      "metadata": {
        "id": "eRRgld1--rY9"
      }
    },
    {
      "cell_type": "code",
      "source": [
        "nome=input('Qual é o seu nome?')\n",
        "print(nome)"
      ],
      "metadata": {
        "colab": {
          "base_uri": "https://localhost:8080/"
        },
        "id": "2Mh_E5qX-qBt",
        "outputId": "90fc3a92-93ac-4eb5-e14a-d95f983a73d7"
      },
      "execution_count": null,
      "outputs": [
        {
          "output_type": "stream",
          "name": "stdout",
          "text": [
            "Qual é o seu nome?Léo\n",
            "Léo\n"
          ]
        }
      ]
    },
    {
      "cell_type": "code",
      "source": [
        "numero = input('Digite um numero: ')\n",
        "expoente = input('Digite um expoent: ')\n",
        "\n",
        "resultado = int(numero) ** int(expoente)\n",
        "\n",
        "print(f'O resultado de {numero} elevado á {expoente} é {resultado}')"
      ],
      "metadata": {
        "colab": {
          "base_uri": "https://localhost:8080/"
        },
        "id": "olw7TrRF_qX7",
        "outputId": "67a52f59-a4ca-4b31-9c83-827b1bc1ad02"
      },
      "execution_count": null,
      "outputs": [
        {
          "output_type": "stream",
          "name": "stdout",
          "text": [
            "Digite um numero: 2\n",
            "Digite um expoent: 2\n",
            "O resultado de 2 elevado á 2 é 4\n"
          ]
        }
      ]
    },
    {
      "cell_type": "code",
      "source": [
        "nome = input('Qual é o seu nome? ')\n",
        "idade = input('Qual é a sua idade? ')\n",
        "altura = input('Qual é a sua altura? ')\n",
        "\n",
        "print('Os dados inseridos foram: ')\n",
        "print(\n",
        "    f'\\tNome: {nome}\\n'\n",
        "    f'\\tIdade: {idade} anos\\n'\n",
        "    f'\\tAltura: {float(altura):.2f}'\n",
        ")"
      ],
      "metadata": {
        "colab": {
          "base_uri": "https://localhost:8080/"
        },
        "id": "aJv4SqA_BJ4M",
        "outputId": "38bcc102-4c7e-48af-e138-ac4c8e6ddd03"
      },
      "execution_count": null,
      "outputs": [
        {
          "output_type": "stream",
          "name": "stdout",
          "text": [
            "Qual é o seu nome? leo\n",
            "Qual é a sua idade? 34\n",
            "Qual é a sua altura? 1.75\n",
            "Os dados inseridos foram: \n",
            "\tNome: leo\n",
            "\tIdade: 34 anos\n",
            "\tAltura: 1.75\n"
          ]
        }
      ]
    },
    {
      "cell_type": "markdown",
      "source": [
        " ***Construindo uma calculadora***"
      ],
      "metadata": {
        "id": "gJi5FQjiDN0n"
      }
    },
    {
      "cell_type": "code",
      "source": [
        "numero_1 = input('Digite o primeiro numero: ')\n",
        "numero_2 = input('Digite o segnudo numero: ')\n",
        "\n",
        "print('Digite a aperação:\\n\\t+ para Adição\\n\\t- para subtração\\n\\t* para multiplicação\\n\\t/ para Divisão')\n",
        "\n",
        "operacao = input('Digite a operação: ')\n",
        "\n",
        "equacao = f'{numero_1} {operacao} {numero_2}'\n",
        "\n",
        "resultado = eval(equacao)\n",
        "\n",
        "print(f'Resultado: {resultado}')"
      ],
      "metadata": {
        "colab": {
          "base_uri": "https://localhost:8080/"
        },
        "id": "jLk2KLaQDSNE",
        "outputId": "ad13a8d4-c712-44ae-9137-4d3aceb7dd47"
      },
      "execution_count": null,
      "outputs": [
        {
          "output_type": "stream",
          "name": "stdout",
          "text": [
            "Digite o primeiro numero: 10\n",
            "Digite o segnudo numero: 15\n",
            "Digite a aperação:\n",
            "\t+ para Adição\n",
            "\t- para subtração\n",
            "\t* para multiplicação\n",
            "\t/ para Divisão\n",
            "Digite a operação: *\n",
            "Resultado: 150\n"
          ]
        }
      ]
    },
    {
      "cell_type": "code",
      "source": [
        "numero_1 = input('Digite o primeiro numero: ')\n",
        "numero_2 = input('Digite o segnudo numero: ')\n",
        "\n",
        "print('Digite a aperação:\\n\\t+ para Adição\\n\\t- para subtração\\n\\t* para multiplicação\\n\\t/ para Divisão')\n",
        "\n",
        "operacao = input('Digite a operação: ')\n",
        "\n",
        "equacao = f'{numero_1} {operacao} {numero_2}'\n",
        "\n",
        "resultado = eval(equacao)\n",
        "\n",
        "print(f'{\"*\" * 25}Resultado: {resultado}\\n{\"*\" * 25}')"
      ],
      "metadata": {
        "colab": {
          "base_uri": "https://localhost:8080/"
        },
        "id": "X3jZqwYtGPf9",
        "outputId": "820d075a-d7dd-4afc-acb8-42fb14dfa05f"
      },
      "execution_count": null,
      "outputs": [
        {
          "output_type": "stream",
          "name": "stdout",
          "text": [
            "Digite o primeiro numero: 10\n",
            "Digite o segnudo numero: 5\n",
            "Digite a aperação:\n",
            "\t+ para Adição\n",
            "\t- para subtração\n",
            "\t* para multiplicação\n",
            "\t/ para Divisão\n",
            "Digite a operação: *\n",
            "*************************Resultado: 50\n",
            "*************************\n"
          ]
        }
      ]
    },
    {
      "cell_type": "markdown",
      "source": [
        " ***Estruturas Condicionais***"
      ],
      "metadata": {
        "id": "CCSg1UMbVMun"
      }
    },
    {
      "cell_type": "code",
      "source": [],
      "metadata": {
        "id": "vhM6z38Tan2k"
      },
      "execution_count": null,
      "outputs": []
    },
    {
      "cell_type": "code",
      "source": [
        "idade = input('Digite a sua idade: ')\n",
        "sexo = input('Digite seu sexo \"M\" para Masculino e \"F\" para feminino: ')\n",
        "\n",
        "if sexo.upper() == 'M':\n",
        "  # Código para sexo Masculino\n",
        "\n",
        "  if int(idade) >= 65:\n",
        "    print('Parabéns: sua aposentadoria será concedida!')\n",
        "\n",
        "  else:\n",
        "    print(f'Sua vez ainda não chegou! Aguarde mais {65 - int(idade)} anos.')\n",
        "\n",
        "elif sexo.upper() == 'F':\n",
        "    # Código para o Sexo Feminino\n",
        "    if int(idade)>= 60:\n",
        "       print('Parabéns! Sua aposentdadoria será concedida!')\n",
        "\n",
        "    else:\n",
        "        print(f'Sua vez ainda não chegou! Aguarde mais {60 - int(idade)} anos.')\n"
      ],
      "metadata": {
        "id": "p59jHDpqm60H",
        "colab": {
          "base_uri": "https://localhost:8080/"
        },
        "outputId": "ad12390e-295e-4dc3-f5a5-9246ef72c979"
      },
      "execution_count": null,
      "outputs": [
        {
          "output_type": "stream",
          "name": "stdout",
          "text": [
            "Digite a sua idade: 30\n",
            "Digite seu sexo \"M\" para Masculino e \"F\" para feminino: f\n",
            "Sua vez ainda não chegou! Aguarde mais 30 anos.\n"
          ]
        }
      ]
    },
    {
      "cell_type": "markdown",
      "source": [
        " ***Operadores Lógicos***"
      ],
      "metadata": {
        "id": "a143p_LhfUte"
      }
    },
    {
      "cell_type": "code",
      "source": [
        "x = True\n",
        "y = True\n",
        "\n",
        "print('***IS***')\n",
        "print(x is y)\n",
        "print(True is False)\n"
      ],
      "metadata": {
        "colab": {
          "base_uri": "https://localhost:8080/"
        },
        "id": "nUD68Diofc6E",
        "outputId": "d75ef55a-3495-403f-ee03-ea49d6f52c11"
      },
      "execution_count": null,
      "outputs": [
        {
          "output_type": "stream",
          "name": "stdout",
          "text": [
            "***IS***\n",
            "True\n",
            "False\n"
          ]
        }
      ]
    },
    {
      "cell_type": "code",
      "source": [
        "print('\\n*** AND ***')\n",
        "print(False and False)\n",
        "print(False and True)\n",
        "print(True and False)\n",
        "print(True and True)"
      ],
      "metadata": {
        "colab": {
          "base_uri": "https://localhost:8080/"
        },
        "id": "dKa4OqmegJ6s",
        "outputId": "fea3fd33-2530-4e35-a47b-5fc2a599706e"
      },
      "execution_count": null,
      "outputs": [
        {
          "output_type": "stream",
          "name": "stdout",
          "text": [
            "\n",
            "*** AND ***\n",
            "False\n",
            "False\n",
            "False\n",
            "True\n"
          ]
        }
      ]
    },
    {
      "cell_type": "code",
      "source": [
        "print('\\n*** OR ***')\n",
        "print(False or False)\n",
        "print(False or True)\n",
        "print(True or False)\n",
        "print(True or True)\n"
      ],
      "metadata": {
        "colab": {
          "base_uri": "https://localhost:8080/"
        },
        "id": "swVZEALHhYh5",
        "outputId": "c85e637f-5858-4e9b-f69a-c3b4fa35340d"
      },
      "execution_count": null,
      "outputs": [
        {
          "output_type": "stream",
          "name": "stdout",
          "text": [
            "\n",
            "*** OR ***\n",
            "False\n",
            "True\n",
            "True\n",
            "True\n"
          ]
        }
      ]
    },
    {
      "cell_type": "code",
      "source": [
        "print('\\n*** not ***')\n",
        "print(not True)\n",
        "print(not False)"
      ],
      "metadata": {
        "colab": {
          "base_uri": "https://localhost:8080/"
        },
        "id": "I-hqmEASiUNB",
        "outputId": "024b0312-bcab-4719-d79a-451136f71dae"
      },
      "execution_count": null,
      "outputs": [
        {
          "output_type": "stream",
          "name": "stdout",
          "text": [
            "\n",
            "*** not ***\n",
            "False\n",
            "True\n"
          ]
        }
      ]
    },
    {
      "cell_type": "code",
      "source": [
        "print('\\n****OPERADORES DE COMPARAÇÃO')\n",
        "\n",
        "x = 10\n",
        "y = 20\n",
        "\n",
        "# ==\n",
        "\n",
        "print(f'{x} == {y}: {x==y}')\n",
        "\n",
        "# !=\n",
        "\n",
        "print(f'{x} != {y}: {x!=y}')\n",
        "\n",
        "# >\n",
        "\n",
        "print(f'{x} > {y}: {x > y}')\n",
        "\n",
        "# >= \n",
        "\n",
        "print(f'{x} >= {y}: {x >= y}')"
      ],
      "metadata": {
        "colab": {
          "base_uri": "https://localhost:8080/"
        },
        "id": "0eJ_kFPcQf11",
        "outputId": "972ff5ad-53ab-4379-cc8f-9f3810a75de1"
      },
      "execution_count": null,
      "outputs": [
        {
          "output_type": "stream",
          "name": "stdout",
          "text": [
            "\n",
            "****OPERADORES DE COMPARAÇÃO\n",
            "10 == 20: False\n",
            "10 != 20: True\n",
            "10 > 20: False\n",
            "10 >= 20: False\n"
          ]
        }
      ]
    },
    {
      "cell_type": "code",
      "source": [
        "print('\\n**** OPERADORES DE ATRIBUIÇÃO ***')\n",
        "\n",
        "x = 100\n",
        "\n",
        "print(f'Valor inicial de x = {x}')\n",
        "\n",
        "# +=\n",
        "\n",
        "x += 10\n",
        "\n",
        "print(f'x += 10 = {x}\\t(Equivalente: x = x + 10)')\n",
        "\n",
        "# -=\n",
        "\n",
        "x -= 5\n",
        "\n",
        "print(f'x -= 10 = {x}\\t(Equivalente: x = x - 5)')\n",
        "\n",
        "x /= 5\n",
        "\n",
        "print(f'x /= 5 = {x}\\t(Equivalente: x = x / 5)')\n",
        "\n",
        "x *= 5\n",
        "\n",
        "print(f'x *= 5 = {x}\\t(Equivalente: x = x * 5)')\n",
        "\n",
        "x //= 20\n",
        "\n",
        "print(f'x //= 20 = {x}\\t(Equivalente: x = x // 20)')\n",
        "\n",
        "x %= 3\n",
        "\n",
        "print(f'x %= 3 = {x}\\t(Equivalente: x = x % 20)')\n",
        "\n",
        "\n",
        "\n",
        "\n",
        "\n",
        "\n"
      ],
      "metadata": {
        "colab": {
          "base_uri": "https://localhost:8080/"
        },
        "id": "hpNqQb82aN-5",
        "outputId": "a16ba065-4d33-4dfa-bedd-066bd56084c4"
      },
      "execution_count": null,
      "outputs": [
        {
          "output_type": "stream",
          "name": "stdout",
          "text": [
            "\n",
            "**** OPERADORES DE ATRIBUIÇÃO ***\n",
            "Valor inicial de x = 100\n",
            "x += 10 = 110\t(Equivalente: x = x + 10)\n",
            "x -= 10 = 105\t(Equivalente: x = x - 5)\n",
            "x /= 5 = 21.0\t(Equivalente: x = x / 5)\n",
            "x *= 5 = 105.0\t(Equivalente: x = x * 5)\n",
            "x //= 20 = 5.0\t(Equivalente: x = x // 20)\n",
            "x %= 3 = 2.0\t(Equivalente: x = x % 20)\n"
          ]
        }
      ]
    },
    {
      "cell_type": "markdown",
      "source": [
        " **Estrutura de repetição for**"
      ],
      "metadata": {
        "id": "lFuiTsRc7iMF"
      }
    },
    {
      "cell_type": "code",
      "source": [
        "# For: Sintaxe basica\n",
        "\n",
        "sequencia = [1, 2, 3, 4, 5]\n",
        "\n",
        "for elemento in sequencia:\n",
        "  print(f'{elemento}')  \n"
      ],
      "metadata": {
        "colab": {
          "base_uri": "https://localhost:8080/"
        },
        "id": "_Sim1GvH7r2L",
        "outputId": "07d31060-8748-4e8e-ecb4-9a702da1e606"
      },
      "execution_count": null,
      "outputs": [
        {
          "output_type": "stream",
          "name": "stdout",
          "text": [
            "1\n",
            "2\n",
            "3\n",
            "4\n",
            "5\n"
          ]
        }
      ]
    },
    {
      "cell_type": "code",
      "source": [
        "# range\n",
        "\n",
        "\n",
        "for i in range(0, 30, 2):\n",
        "  print(f'O valor de i é: {i}')\n"
      ],
      "metadata": {
        "colab": {
          "base_uri": "https://localhost:8080/"
        },
        "id": "O03bmjXk8j9z",
        "outputId": "703180b5-a6cb-42ec-ee1f-06fc8a1d689b"
      },
      "execution_count": null,
      "outputs": [
        {
          "output_type": "stream",
          "name": "stdout",
          "text": [
            "O valor de i é: 0\n",
            "O valor de i é: 2\n",
            "O valor de i é: 4\n",
            "O valor de i é: 6\n",
            "O valor de i é: 8\n",
            "O valor de i é: 10\n",
            "O valor de i é: 12\n",
            "O valor de i é: 14\n",
            "O valor de i é: 16\n",
            "O valor de i é: 18\n",
            "O valor de i é: 20\n",
            "O valor de i é: 22\n",
            "O valor de i é: 24\n",
            "O valor de i é: 26\n",
            "O valor de i é: 28\n"
          ]
        }
      ]
    },
    {
      "cell_type": "code",
      "source": [
        "# Iterando sobre Estrituras de Dados\n",
        "\n",
        "set_={1,2,3}\n",
        "tupla=(1,2,3)\n",
        "lista=[1,2,3]\n",
        "dicionario = {'a': 1, 'b': 2}\n",
        "\n",
        "for elemento in set_:\n",
        "  print(f'[SET] Elemento da set: {elemento}')\n",
        "\n",
        "for elemento in tupla:\n",
        "  print(f'[TUPLA] Elemento da tupla: {elemento}')\n",
        "\n",
        "for elemento in lista:\n",
        "  print(f'[LISTA] Elemento da lista.itens(): {elemento}')\n",
        "\n",
        "for elemento in dicionario:\n",
        "  print(f'[DICT] Elemento do dicionario: {elemento}')\n",
        "\n",
        "\n",
        "\n",
        "\n",
        "\n"
      ],
      "metadata": {
        "colab": {
          "base_uri": "https://localhost:8080/"
        },
        "id": "3wG5l6fR8I4Z",
        "outputId": "1f673658-495e-48fe-e615-e0382d319903"
      },
      "execution_count": null,
      "outputs": [
        {
          "output_type": "stream",
          "name": "stdout",
          "text": [
            "[SET] Elemento da set: 1\n",
            "[SET] Elemento da set: 2\n",
            "[SET] Elemento da set: 3\n",
            "[TUPLA] Elemento da tupla: 1\n",
            "[TUPLA] Elemento da tupla: 2\n",
            "[TUPLA] Elemento da tupla: 3\n",
            "[LISTA] Elemento da lista.itens(): 1\n",
            "[LISTA] Elemento da lista.itens(): 2\n",
            "[LISTA] Elemento da lista.itens(): 3\n",
            "[DICT] Elemento do dicionario: a\n",
            "[DICT] Elemento do dicionario: b\n"
          ]
        }
      ]
    },
    {
      "cell_type": "markdown",
      "source": [
        " ***Estrutura de repetição while***"
      ],
      "metadata": {
        "id": "Kd1hrZMDNGdn"
      }
    },
    {
      "cell_type": "code",
      "source": [
        "from random import randint\n",
        "\n",
        "CAPACIDADE_MAXIMA_BALDE = 1000\n",
        "\n",
        "balde = 0\n",
        "\n",
        "while balde <= CAPACIDADE_MAXIMA_BALDE:\n",
        "  volume_copo = randint(85, 100)\n",
        "\n",
        "  print(f'O copo foi enchido com {volume_copo}mls\\n')\n",
        "\n",
        "  balde += volume_copo\n",
        "\n",
        "\n",
        "\n"
      ],
      "metadata": {
        "id": "hefHKeuHNMdo"
      },
      "execution_count": null,
      "outputs": []
    },
    {
      "cell_type": "code",
      "source": [],
      "metadata": {
        "id": "caUh6x_1Hl5_"
      },
      "execution_count": null,
      "outputs": []
    }
  ],
  "metadata": {
    "colab": {
      "collapsed_sections": [],
      "provenance": [],
      "include_colab_link": true
    },
    "kernelspec": {
      "display_name": "Python 3",
      "name": "python3"
    }
  },
  "nbformat": 4,
  "nbformat_minor": 0
}